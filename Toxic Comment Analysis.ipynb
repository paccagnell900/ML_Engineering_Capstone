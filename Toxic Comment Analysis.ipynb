{
 "cells": [
  {
   "cell_type": "markdown",
   "id": "2226d711",
   "metadata": {},
   "source": [
    "### 1. Bag of Word - Benchmarking model\n",
    "\n",
    "\n",
    "The first step in our analysis is to define a benchmarking model. This will allow us to evaluate afterwards more complex NLP algorithms. In this optic, we will apply test classification, by using one of the basic model, the so called `Bag of Words`. \n",
    "\n",
    "In this framework, we will use a sklearn implementation of Bag of Words, `CounterVectorizer` to convert the provided text into a numerical matrics. On top of this matrix, we will than apply `Logistic Regression` and a `Nayve Bayes` algorithm and we will select the one which is providing the best result on a validation data set to predict the test data. \n",
    "\n",
    "At the end, we will use the sklearn `Multi Output Classifier` to predict the level of toxicity of the target test within the 5 pre-set labels: `toxic`, `severe toxic`, `obscene`, `threat`, `insult` and `identity hate`. "
   ]
  },
  {
   "cell_type": "markdown",
   "id": "71c756f9",
   "metadata": {},
   "source": [
    "#### a. Importing the required libraries"
   ]
  },
  {
   "cell_type": "code",
   "execution_count": 1,
   "id": "5280dd8f",
   "metadata": {
    "scrolled": true
   },
   "outputs": [],
   "source": [
    "import pandas as pd #import data processing libraries\n",
    "import numpy as np #import numpy libraries\n",
    "\n",
    "from statistics import mean \n",
    "\n",
    "import string \n",
    "\n",
    "#ML Sklearn Libraries\n",
    "from sklearn.model_selection import train_test_split\n",
    "from sklearn.feature_extraction import _stop_words\n",
    "from sklearn.feature_extraction.text import CountVectorizer\n",
    "from sklearn.multioutput import MultiOutputClassifier\n",
    "from sklearn.naive_bayes import MultinomialNB\n",
    "from sklearn.linear_model import LogisticRegression\n",
    "from sklearn.metrics import roc_auc_score\n",
    "\n",
    "#Visualisation Libraries\n",
    "import matplotlib.pyplot as plt\n",
    "import seaborn as sns\n",
    "\n",
    "#To set aproximation to 3 decimals\n",
    "pd.options.display.float_format = \"{:,.2f}\".format"
   ]
  },
  {
   "cell_type": "markdown",
   "id": "93d54eca",
   "metadata": {},
   "source": [
    "#### b. Importing the File"
   ]
  },
  {
   "cell_type": "code",
   "execution_count": 2,
   "id": "59f35ee3",
   "metadata": {},
   "outputs": [
    {
     "data": {
      "text/html": [
       "<div>\n",
       "<style scoped>\n",
       "    .dataframe tbody tr th:only-of-type {\n",
       "        vertical-align: middle;\n",
       "    }\n",
       "\n",
       "    .dataframe tbody tr th {\n",
       "        vertical-align: top;\n",
       "    }\n",
       "\n",
       "    .dataframe thead th {\n",
       "        text-align: right;\n",
       "    }\n",
       "</style>\n",
       "<table border=\"1\" class=\"dataframe\">\n",
       "  <thead>\n",
       "    <tr style=\"text-align: right;\">\n",
       "      <th></th>\n",
       "      <th>id</th>\n",
       "      <th>comment_text</th>\n",
       "      <th>toxic</th>\n",
       "      <th>severe_toxic</th>\n",
       "      <th>obscene</th>\n",
       "      <th>threat</th>\n",
       "      <th>insult</th>\n",
       "      <th>identity_hate</th>\n",
       "    </tr>\n",
       "  </thead>\n",
       "  <tbody>\n",
       "    <tr>\n",
       "      <th>0</th>\n",
       "      <td>0000997932d777bf</td>\n",
       "      <td>Explanation\\nWhy the edits made under my usern...</td>\n",
       "      <td>0</td>\n",
       "      <td>0</td>\n",
       "      <td>0</td>\n",
       "      <td>0</td>\n",
       "      <td>0</td>\n",
       "      <td>0</td>\n",
       "    </tr>\n",
       "    <tr>\n",
       "      <th>1</th>\n",
       "      <td>000103f0d9cfb60f</td>\n",
       "      <td>D'aww! He matches this background colour I'm s...</td>\n",
       "      <td>0</td>\n",
       "      <td>0</td>\n",
       "      <td>0</td>\n",
       "      <td>0</td>\n",
       "      <td>0</td>\n",
       "      <td>0</td>\n",
       "    </tr>\n",
       "    <tr>\n",
       "      <th>2</th>\n",
       "      <td>000113f07ec002fd</td>\n",
       "      <td>Hey man, I'm really not trying to edit war. It...</td>\n",
       "      <td>0</td>\n",
       "      <td>0</td>\n",
       "      <td>0</td>\n",
       "      <td>0</td>\n",
       "      <td>0</td>\n",
       "      <td>0</td>\n",
       "    </tr>\n",
       "    <tr>\n",
       "      <th>3</th>\n",
       "      <td>0001b41b1c6bb37e</td>\n",
       "      <td>\"\\nMore\\nI can't make any real suggestions on ...</td>\n",
       "      <td>0</td>\n",
       "      <td>0</td>\n",
       "      <td>0</td>\n",
       "      <td>0</td>\n",
       "      <td>0</td>\n",
       "      <td>0</td>\n",
       "    </tr>\n",
       "    <tr>\n",
       "      <th>4</th>\n",
       "      <td>0001d958c54c6e35</td>\n",
       "      <td>You, sir, are my hero. Any chance you remember...</td>\n",
       "      <td>0</td>\n",
       "      <td>0</td>\n",
       "      <td>0</td>\n",
       "      <td>0</td>\n",
       "      <td>0</td>\n",
       "      <td>0</td>\n",
       "    </tr>\n",
       "  </tbody>\n",
       "</table>\n",
       "</div>"
      ],
      "text/plain": [
       "                 id                                       comment_text  toxic  \\\n",
       "0  0000997932d777bf  Explanation\\nWhy the edits made under my usern...      0   \n",
       "1  000103f0d9cfb60f  D'aww! He matches this background colour I'm s...      0   \n",
       "2  000113f07ec002fd  Hey man, I'm really not trying to edit war. It...      0   \n",
       "3  0001b41b1c6bb37e  \"\\nMore\\nI can't make any real suggestions on ...      0   \n",
       "4  0001d958c54c6e35  You, sir, are my hero. Any chance you remember...      0   \n",
       "\n",
       "   severe_toxic  obscene  threat  insult  identity_hate  \n",
       "0             0        0       0       0              0  \n",
       "1             0        0       0       0              0  \n",
       "2             0        0       0       0              0  \n",
       "3             0        0       0       0              0  \n",
       "4             0        0       0       0              0  "
      ]
     },
     "execution_count": 2,
     "metadata": {},
     "output_type": "execute_result"
    }
   ],
   "source": [
    "#Reading input csv files\n",
    "train_text = pd.read_csv(\"/Users/stefano/UDACITY/Data Engeeniring/Capstone/Data/train.csv\")\n",
    "test_text = pd.read_csv(\"/Users/stefano/UDACITY/Data Engeeniring/Capstone/Data/test.csv\")\n",
    "sample_submission = pd.read_csv(\"/Users/stefano/UDACITY/Data Engeeniring/Capstone/Data/sample_submission.csv\")\n",
    "\n",
    "train_text.head()"
   ]
  },
  {
   "cell_type": "code",
   "execution_count": 3,
   "id": "606ce01c",
   "metadata": {},
   "outputs": [
    {
     "data": {
      "text/plain": [
       "(159571, 8)"
      ]
     },
     "execution_count": 3,
     "metadata": {},
     "output_type": "execute_result"
    }
   ],
   "source": [
    "train_text.shape"
   ]
  },
  {
   "cell_type": "code",
   "execution_count": 4,
   "id": "80d3b203",
   "metadata": {},
   "outputs": [
    {
     "data": {
      "text/html": [
       "<div>\n",
       "<style scoped>\n",
       "    .dataframe tbody tr th:only-of-type {\n",
       "        vertical-align: middle;\n",
       "    }\n",
       "\n",
       "    .dataframe tbody tr th {\n",
       "        vertical-align: top;\n",
       "    }\n",
       "\n",
       "    .dataframe thead th {\n",
       "        text-align: right;\n",
       "    }\n",
       "</style>\n",
       "<table border=\"1\" class=\"dataframe\">\n",
       "  <thead>\n",
       "    <tr style=\"text-align: right;\">\n",
       "      <th></th>\n",
       "      <th>id</th>\n",
       "      <th>comment_text</th>\n",
       "    </tr>\n",
       "  </thead>\n",
       "  <tbody>\n",
       "    <tr>\n",
       "      <th>0</th>\n",
       "      <td>00001cee341fdb12</td>\n",
       "      <td>Yo bitch Ja Rule is more succesful then you'll...</td>\n",
       "    </tr>\n",
       "    <tr>\n",
       "      <th>1</th>\n",
       "      <td>0000247867823ef7</td>\n",
       "      <td>== From RfC == \\n\\n The title is fine as it is...</td>\n",
       "    </tr>\n",
       "    <tr>\n",
       "      <th>2</th>\n",
       "      <td>00013b17ad220c46</td>\n",
       "      <td>\" \\n\\n == Sources == \\n\\n * Zawe Ashton on Lap...</td>\n",
       "    </tr>\n",
       "    <tr>\n",
       "      <th>3</th>\n",
       "      <td>00017563c3f7919a</td>\n",
       "      <td>:If you have a look back at the source, the in...</td>\n",
       "    </tr>\n",
       "    <tr>\n",
       "      <th>4</th>\n",
       "      <td>00017695ad8997eb</td>\n",
       "      <td>I don't anonymously edit articles at all.</td>\n",
       "    </tr>\n",
       "  </tbody>\n",
       "</table>\n",
       "</div>"
      ],
      "text/plain": [
       "                 id                                       comment_text\n",
       "0  00001cee341fdb12  Yo bitch Ja Rule is more succesful then you'll...\n",
       "1  0000247867823ef7  == From RfC == \\n\\n The title is fine as it is...\n",
       "2  00013b17ad220c46  \" \\n\\n == Sources == \\n\\n * Zawe Ashton on Lap...\n",
       "3  00017563c3f7919a  :If you have a look back at the source, the in...\n",
       "4  00017695ad8997eb          I don't anonymously edit articles at all."
      ]
     },
     "execution_count": 4,
     "metadata": {},
     "output_type": "execute_result"
    }
   ],
   "source": [
    "test_text.head()"
   ]
  },
  {
   "cell_type": "code",
   "execution_count": 5,
   "id": "ad328787",
   "metadata": {},
   "outputs": [
    {
     "data": {
      "text/plain": [
       "(153164, 2)"
      ]
     },
     "execution_count": 5,
     "metadata": {},
     "output_type": "execute_result"
    }
   ],
   "source": [
    "test_text.shape"
   ]
  },
  {
   "cell_type": "markdown",
   "id": "1a44cfdd",
   "metadata": {},
   "source": [
    "Let's check if there are Null values in the training dataset"
   ]
  },
  {
   "cell_type": "code",
   "execution_count": 52,
   "id": "217ac1f7",
   "metadata": {},
   "outputs": [
    {
     "data": {
      "text/html": [
       "<div>\n",
       "<style scoped>\n",
       "    .dataframe tbody tr th:only-of-type {\n",
       "        vertical-align: middle;\n",
       "    }\n",
       "\n",
       "    .dataframe tbody tr th {\n",
       "        vertical-align: top;\n",
       "    }\n",
       "\n",
       "    .dataframe thead th {\n",
       "        text-align: right;\n",
       "    }\n",
       "</style>\n",
       "<table border=\"1\" class=\"dataframe\">\n",
       "  <thead>\n",
       "    <tr style=\"text-align: right;\">\n",
       "      <th></th>\n",
       "      <th>toxic</th>\n",
       "      <th>severe_toxic</th>\n",
       "      <th>obscene</th>\n",
       "      <th>threat</th>\n",
       "      <th>insult</th>\n",
       "      <th>identity_hate</th>\n",
       "      <th>char_length</th>\n",
       "    </tr>\n",
       "  </thead>\n",
       "  <tbody>\n",
       "    <tr>\n",
       "      <th>count</th>\n",
       "      <td>159,571.00</td>\n",
       "      <td>159,571.00</td>\n",
       "      <td>159,571.00</td>\n",
       "      <td>159,571.00</td>\n",
       "      <td>159,571.00</td>\n",
       "      <td>159,571.00</td>\n",
       "      <td>159,571.00</td>\n",
       "    </tr>\n",
       "    <tr>\n",
       "      <th>mean</th>\n",
       "      <td>0.10</td>\n",
       "      <td>0.01</td>\n",
       "      <td>0.05</td>\n",
       "      <td>0.00</td>\n",
       "      <td>0.05</td>\n",
       "      <td>0.01</td>\n",
       "      <td>394.07</td>\n",
       "    </tr>\n",
       "    <tr>\n",
       "      <th>std</th>\n",
       "      <td>0.29</td>\n",
       "      <td>0.10</td>\n",
       "      <td>0.22</td>\n",
       "      <td>0.05</td>\n",
       "      <td>0.22</td>\n",
       "      <td>0.09</td>\n",
       "      <td>590.72</td>\n",
       "    </tr>\n",
       "    <tr>\n",
       "      <th>min</th>\n",
       "      <td>0.00</td>\n",
       "      <td>0.00</td>\n",
       "      <td>0.00</td>\n",
       "      <td>0.00</td>\n",
       "      <td>0.00</td>\n",
       "      <td>0.00</td>\n",
       "      <td>6.00</td>\n",
       "    </tr>\n",
       "    <tr>\n",
       "      <th>25%</th>\n",
       "      <td>0.00</td>\n",
       "      <td>0.00</td>\n",
       "      <td>0.00</td>\n",
       "      <td>0.00</td>\n",
       "      <td>0.00</td>\n",
       "      <td>0.00</td>\n",
       "      <td>96.00</td>\n",
       "    </tr>\n",
       "    <tr>\n",
       "      <th>50%</th>\n",
       "      <td>0.00</td>\n",
       "      <td>0.00</td>\n",
       "      <td>0.00</td>\n",
       "      <td>0.00</td>\n",
       "      <td>0.00</td>\n",
       "      <td>0.00</td>\n",
       "      <td>205.00</td>\n",
       "    </tr>\n",
       "    <tr>\n",
       "      <th>75%</th>\n",
       "      <td>0.00</td>\n",
       "      <td>0.00</td>\n",
       "      <td>0.00</td>\n",
       "      <td>0.00</td>\n",
       "      <td>0.00</td>\n",
       "      <td>0.00</td>\n",
       "      <td>435.00</td>\n",
       "    </tr>\n",
       "    <tr>\n",
       "      <th>max</th>\n",
       "      <td>1.00</td>\n",
       "      <td>1.00</td>\n",
       "      <td>1.00</td>\n",
       "      <td>1.00</td>\n",
       "      <td>1.00</td>\n",
       "      <td>1.00</td>\n",
       "      <td>5,000.00</td>\n",
       "    </tr>\n",
       "  </tbody>\n",
       "</table>\n",
       "</div>"
      ],
      "text/plain": [
       "           toxic  severe_toxic    obscene     threat     insult  \\\n",
       "count 159,571.00    159,571.00 159,571.00 159,571.00 159,571.00   \n",
       "mean        0.10          0.01       0.05       0.00       0.05   \n",
       "std         0.29          0.10       0.22       0.05       0.22   \n",
       "min         0.00          0.00       0.00       0.00       0.00   \n",
       "25%         0.00          0.00       0.00       0.00       0.00   \n",
       "50%         0.00          0.00       0.00       0.00       0.00   \n",
       "75%         0.00          0.00       0.00       0.00       0.00   \n",
       "max         1.00          1.00       1.00       1.00       1.00   \n",
       "\n",
       "       identity_hate  char_length  \n",
       "count     159,571.00   159,571.00  \n",
       "mean            0.01       394.07  \n",
       "std             0.09       590.72  \n",
       "min             0.00         6.00  \n",
       "25%             0.00        96.00  \n",
       "50%             0.00       205.00  \n",
       "75%             0.00       435.00  \n",
       "max             1.00     5,000.00  "
      ]
     },
     "execution_count": 52,
     "metadata": {},
     "output_type": "execute_result"
    }
   ],
   "source": [
    "# check missing values in numeric columns\n",
    "train_text.describe()"
   ]
  },
  {
   "cell_type": "markdown",
   "id": "3c590f39",
   "metadata": {},
   "source": [
    "There are no missing numeric values. As the mean values are very small (some way below 0.05), there would be many not labelled as positive in the six categories. From this I guess that there would be many comments which are not labelled in any of the six categories. Let's take a look."
   ]
  },
  {
   "cell_type": "code",
   "execution_count": 16,
   "id": "a1f070ff",
   "metadata": {},
   "outputs": [
    {
     "data": {
      "text/plain": [
       "(id               False\n",
       " comment_text     False\n",
       " toxic            False\n",
       " severe_toxic     False\n",
       " obscene          False\n",
       " threat           False\n",
       " insult           False\n",
       " identity_hate    False\n",
       " dtype: bool,\n",
       " id              False\n",
       " comment_text    False\n",
       " dtype: bool)"
      ]
     },
     "execution_count": 16,
     "metadata": {},
     "output_type": "execute_result"
    }
   ],
   "source": [
    "train_text.isnull().any(),test_text.isnull().any()"
   ]
  },
  {
   "cell_type": "markdown",
   "id": "f3a2b3a4",
   "metadata": {},
   "source": [
    "Let's analyze the testing data and the labels distribution. "
   ]
  },
  {
   "cell_type": "code",
   "execution_count": 30,
   "id": "dfa8fa4f",
   "metadata": {},
   "outputs": [
    {
     "name": "stdout",
     "output_type": "stream",
     "text": [
      "Total rows in test is 153164\n",
      "Total rows in train is 159571\n",
      "obscene           8449\n",
      "insult            7877\n",
      "toxic            15294\n",
      "severe_toxic      1595\n",
      "identity_hate     1405\n",
      "threat             478\n",
      "dtype: int64\n"
     ]
    }
   ],
   "source": [
    "cols_target = ['obscene','insult','toxic','severe_toxic','identity_hate','threat']\n",
    "\n",
    "# let's see the total rows in train, test data and the numbers for the various categories\n",
    "print('Total rows in test is {}'.format(len(test_text)))\n",
    "print('Total rows in train is {}'.format(len(train_text)))\n",
    "print(train_text[cols_target].sum())"
   ]
  },
  {
   "cell_type": "code",
   "execution_count": 21,
   "id": "24cd7e9f",
   "metadata": {},
   "outputs": [
    {
     "data": {
      "image/png": "[encoded data removed]",
      "text/plain": [
       "<Figure size 576x288 with 1 Axes>"
      ]
     },
     "metadata": {
      "needs_background": "light"
     },
     "output_type": "display_data"
    }
   ],
   "source": [
    "import warnings \n",
    "\n",
    "warnings.filterwarnings(\"ignore\")\n",
    "\n",
    "df_train = train_text.drop(['id', 'comment_text'], axis = 1)\n",
    "label_counts = df_train.sum()\n",
    "df_counts = pd.DataFrame(label_counts)\n",
    "df_counts.rename(columns = {0:'counts'}, inplace = True)\n",
    "df_counts = df_counts.sort_values('counts', ascending = False)\n",
    "df_counts \n",
    "\n",
    "\n",
    "fig, ax = plt.subplots(figsize = (8,4));\n",
    "p = sns.barplot(df_counts.index, df_counts['counts'],palette=\"Blues_d\");\n",
    "x = plt.xticks(rotation = 60); \n",
    "ax.set_title('Toxic comment counts in '+ str(len(df_train))+ \n",
    "             ' samples of data', weight = 'bold', fontsize = 18, y = 1.05);\n",
    "x = ax.set_ylabel('');"
   ]
  },
  {
   "cell_type": "markdown",
   "id": "3e741e27",
   "metadata": {},
   "source": [
    "From the above it is evident that there is an unbalance in the labels distribution, with majority of comments calssified as \"toxic\". \n",
    "\n",
    "It is also interesting to see how many of the Training Text are actually not classified. "
   ]
  },
  {
   "cell_type": "code",
   "execution_count": 53,
   "id": "58351943",
   "metadata": {},
   "outputs": [
    {
     "name": "stdout",
     "output_type": "stream",
     "text": [
      "Percentage of unlabelled comments is  89.83211235124176\n"
     ]
    }
   ],
   "source": [
    "unlabelled_in_all = train_text[(train_text['toxic']!=1) & (train_text['severe_toxic']!=1) & (train_text['obscene']!=1) & \n",
    "                            (train_text['threat']!=1) & (train_text['insult']!=1) & (train_text['identity_hate']!=1)]\n",
    "print('Percentage of unlabelled comments is ', len(unlabelled_in_all)/len(train_text)*100)"
   ]
  },
  {
   "cell_type": "markdown",
   "id": "60dfb6ab",
   "metadata": {},
   "source": [
    "Overall we can recap this with the following code: "
   ]
  },
  {
   "cell_type": "code",
   "execution_count": 54,
   "id": "88f68e7e",
   "metadata": {},
   "outputs": [
    {
     "data": {
      "text/html": [
       "<div>\n",
       "<style scoped>\n",
       "    .dataframe tbody tr th:only-of-type {\n",
       "        vertical-align: middle;\n",
       "    }\n",
       "\n",
       "    .dataframe tbody tr th {\n",
       "        vertical-align: top;\n",
       "    }\n",
       "\n",
       "    .dataframe thead th {\n",
       "        text-align: right;\n",
       "    }\n",
       "</style>\n",
       "<table border=\"1\" class=\"dataframe\">\n",
       "  <thead>\n",
       "    <tr style=\"text-align: right;\">\n",
       "      <th></th>\n",
       "      <th>toxic</th>\n",
       "      <th>severe_toxic</th>\n",
       "      <th>obscene</th>\n",
       "      <th>threat</th>\n",
       "      <th>insult</th>\n",
       "      <th>identity_hate</th>\n",
       "    </tr>\n",
       "  </thead>\n",
       "  <tbody>\n",
       "    <tr>\n",
       "      <th>0</th>\n",
       "      <td>0.90</td>\n",
       "      <td>0.99</td>\n",
       "      <td>0.95</td>\n",
       "      <td>1.00</td>\n",
       "      <td>0.95</td>\n",
       "      <td>0.99</td>\n",
       "    </tr>\n",
       "    <tr>\n",
       "      <th>1</th>\n",
       "      <td>0.10</td>\n",
       "      <td>0.01</td>\n",
       "      <td>0.05</td>\n",
       "      <td>0.00</td>\n",
       "      <td>0.05</td>\n",
       "      <td>0.01</td>\n",
       "    </tr>\n",
       "  </tbody>\n",
       "</table>\n",
       "</div>"
      ],
      "text/plain": [
       "   toxic  severe_toxic  obscene  threat  insult  identity_hate\n",
       "0   0.90          0.99     0.95    1.00    0.95           0.99\n",
       "1   0.10          0.01     0.05    0.00    0.05           0.01"
      ]
     },
     "execution_count": 54,
     "metadata": {},
     "output_type": "execute_result"
    }
   ],
   "source": [
    "#Looking at the distribution of traget variables\n",
    "y_cols = [\"toxic\",\"severe_toxic\",\"obscene\",\"threat\",\"insult\",\"identity_hate\"]\n",
    "\n",
    "train_text[y_cols].apply(pd.Series.value_counts, args = (True, True, False, None, False))"
   ]
  },
  {
   "cell_type": "markdown",
   "id": "28ff2a99",
   "metadata": {},
   "source": [
    "Based on the above we can notice that we have an anbalance distribution in almost all labels. More specifically, `Toxic Statements`: 10% `Severe Toxic Statements`: 1% `Obscene Statements`: 5% `Threat Statements`: 0.3% `Insult Statements`: 5% `Identity Hate Statements`: 0.9%. As mentioned earlier, majority of the comments in the training data are not labelled in one or more of these categories."
   ]
  },
  {
   "cell_type": "code",
   "execution_count": 57,
   "id": "568aaee0",
   "metadata": {},
   "outputs": [
    {
     "data": {
      "text/plain": [
       "array([0.01961983, 0.01961983, 0.01961983, ..., 0.01961983, 0.01961983,\n",
       "       0.01961983])"
      ]
     },
     "execution_count": 57,
     "metadata": {},
     "output_type": "execute_result"
    }
   ],
   "source": [
    "from sklearn.utils import class_weight\n",
    "\n",
    "list_classes = [\"toxic\", \"severe_toxic\", \"obscene\", \"threat\", \"insult\", \"identity_hate\"]\n",
    "y = train_text[list_classes].values\n",
    "sample_weights = class_weight.compute_sample_weight('balanced', y)\n",
    "sample_weights"
   ]
  },
  {
   "cell_type": "code",
   "execution_count": 33,
   "id": "8b6efd64",
   "metadata": {},
   "outputs": [],
   "source": [
    "# Let's look at the character length for the rows in the training data and record these\n",
    "train_text['char_length'] = train_text['comment_text'].apply(lambda x: len(str(x)))"
   ]
  },
  {
   "cell_type": "code",
   "execution_count": 62,
   "id": "49f3daea",
   "metadata": {},
   "outputs": [
    {
     "data": {
      "image/png": "[encoded data removed]",
      "text/plain": [
       "<Figure size 432x288 with 1 Axes>"
      ]
     },
     "metadata": {},
     "output_type": "display_data"
    }
   ],
   "source": [
    "# look at the histogram plot for text length\n",
    "sns.set()\n",
    "train_text['char_length'].hist()\n",
    "plt.title(\"comment text lenght\")\n",
    "plt.xlabel('comment charachters')\n",
    "plt.ylabel('Count')\n",
    "plt.show()"
   ]
  },
  {
   "cell_type": "markdown",
   "id": "916fd59f",
   "metadata": {},
   "source": [
    "Most of the text length are within 500 characters, with some up to 5,000 characters long."
   ]
  },
  {
   "cell_type": "markdown",
   "id": "8465f15d",
   "metadata": {},
   "source": [
    "Next, let's examine the correlations among the target variables."
   ]
  },
  {
   "cell_type": "code",
   "execution_count": 38,
   "id": "877b4796",
   "metadata": {},
   "outputs": [],
   "source": [
    "data = train_text[cols_target]"
   ]
  },
  {
   "cell_type": "code",
   "execution_count": 50,
   "id": "5ac12e10",
   "metadata": {},
   "outputs": [
    {
     "data": {
      "text/plain": [
       "<AxesSubplot:title={'center':'Correlation of features & targets'}>"
      ]
     },
     "execution_count": 50,
     "metadata": {},
     "output_type": "execute_result"
    },
    {
     "data": {
      "image/png": "[encoded data removed]",
      "text/plain": [
       "<Figure size 504x504 with 2 Axes>"
      ]
     },
     "metadata": {},
     "output_type": "display_data"
    }
   ],
   "source": [
    "#colormap = plt.cm.plasma\n",
    "plt.figure(figsize=(7,7))\n",
    "mask = np.zeros_like(corr)\n",
    "mask[np.triu_indices_from(mask)] = True\n",
    "plt.title('Correlation of features & targets',y=1.05,size=14)\n",
    "sns.heatmap(data.astype(float).corr(),mask=mask,linewidths=0.1,vmax=1.0,square=True,cmap=\"YlGnBu\",\n",
    "           linecolor='white',annot=True)"
   ]
  },
  {
   "cell_type": "markdown",
   "id": "bd20b813",
   "metadata": {},
   "source": [
    "Indeed, it looks like some of the labels are higher correlated, e.g. insult-obscene has the highest at 0.74, followed by toxic-obscene and toxic-insult."
   ]
  },
  {
   "cell_type": "markdown",
   "id": "fed53c53",
   "metadata": {},
   "source": [
    "#### c. Splitting the dataset into training and validation sets"
   ]
  },
  {
   "cell_type": "code",
   "execution_count": 63,
   "id": "e6e15d06",
   "metadata": {},
   "outputs": [],
   "source": [
    "#Predictors Variable\n",
    "X = train_text.comment_text\n",
    "#Independent Variables\n",
    "y = train_text[[\"toxic\",\"severe_toxic\",\"obscene\",\"threat\",\"insult\",\"identity_hate\"]]\n",
    "#Splitting for checking the performance of the models on a holdout dataset\n",
    "X_train, X_val, y_train, y_val = train_test_split(X, y, shuffle = True, random_state = 123)"
   ]
  },
  {
   "cell_type": "code",
   "execution_count": 64,
   "id": "aaa7c7a1",
   "metadata": {},
   "outputs": [
    {
     "data": {
      "text/plain": [
       "((119678,), (39893,))"
      ]
     },
     "execution_count": 64,
     "metadata": {},
     "output_type": "execute_result"
    }
   ],
   "source": [
    "X_train.shape, X_val.shape"
   ]
  },
  {
   "cell_type": "markdown",
   "id": "ce45276a",
   "metadata": {},
   "source": [
    "#### d. Basic preprocessing and creation of the Bag of Words"
   ]
  },
  {
   "cell_type": "code",
   "execution_count": 65,
   "id": "06724c10",
   "metadata": {},
   "outputs": [],
   "source": [
    "#Let's first remove stopwords are not useful in the prediction of the independent variable\n",
    "#we will of course the English vocabulary\n",
    "#we will also remove punctuation\n",
    "\n",
    "stop_words = _stop_words.ENGLISH_STOP_WORDS\n",
    "\n",
    "#Function for basic cleaning/preprocessing texts\n",
    "\n",
    "def clean(txt):\n",
    "    \n",
    "    # Removal of punctuation marks (.,/\\][{} etc) and numbers\n",
    "    txt = \"\".join([char for char in txt if char not in string.punctuation and not char.isdigit()])\n",
    "    \n",
    "    # Removal of stopwords\n",
    "    txt = \" \".join([token for token in txt.split() if token not in stop_words])\n",
    "    \n",
    "    return txt.lower()\n"
   ]
  },
  {
   "cell_type": "markdown",
   "id": "8680ac65",
   "metadata": {},
   "source": [
    "Creating a bag of words model with a limited amount of words (around 5000) to avoid that the dataset is going to be to sparse. We will also clean the dataset."
   ]
  },
  {
   "cell_type": "code",
   "execution_count": 66,
   "id": "8f25b726",
   "metadata": {},
   "outputs": [
    {
     "name": "stdout",
     "output_type": "stream",
     "text": [
      "(119678, 5000) (39893, 5000)\n"
     ]
    }
   ],
   "source": [
    "vect = CountVectorizer(max_features= 5000, preprocessor=clean)\n",
    "\n",
    "X_train_dtm = vect.fit_transform(X_train)\n",
    "X_val_dtm = vect.transform(X_val)\n",
    "\n",
    "print(X_train_dtm.shape, X_val_dtm.shape)"
   ]
  },
  {
   "cell_type": "markdown",
   "id": "64717f88",
   "metadata": {},
   "source": [
    "5000 is corresponding to the columns which are essentially number of occurences of the 5000 most common words in each sentence."
   ]
  },
  {
   "cell_type": "code",
   "execution_count": 67,
   "id": "f65d2f52",
   "metadata": {},
   "outputs": [
    {
     "data": {
      "text/html": [
       "<div>\n",
       "<style scoped>\n",
       "    .dataframe tbody tr th:only-of-type {\n",
       "        vertical-align: middle;\n",
       "    }\n",
       "\n",
       "    .dataframe tbody tr th {\n",
       "        vertical-align: top;\n",
       "    }\n",
       "\n",
       "    .dataframe thead th {\n",
       "        text-align: right;\n",
       "    }\n",
       "</style>\n",
       "<table border=\"1\" class=\"dataframe\">\n",
       "  <thead>\n",
       "    <tr style=\"text-align: right;\">\n",
       "      <th></th>\n",
       "      <th>abc</th>\n",
       "      <th>abide</th>\n",
       "      <th>ability</th>\n",
       "      <th>able</th>\n",
       "      <th>abortion</th>\n",
       "      <th>about</th>\n",
       "      <th>absence</th>\n",
       "      <th>absolute</th>\n",
       "      <th>absolutely</th>\n",
       "      <th>absurd</th>\n",
       "      <th>...</th>\n",
       "      <th>yourselfgo</th>\n",
       "      <th>youth</th>\n",
       "      <th>youtube</th>\n",
       "      <th>youve</th>\n",
       "      <th>ytmndin</th>\n",
       "      <th>yugoslavia</th>\n",
       "      <th>zealand</th>\n",
       "      <th>zero</th>\n",
       "      <th>zionist</th>\n",
       "      <th>zone</th>\n",
       "    </tr>\n",
       "  </thead>\n",
       "  <tbody>\n",
       "    <tr>\n",
       "      <th>0</th>\n",
       "      <td>0</td>\n",
       "      <td>0</td>\n",
       "      <td>0</td>\n",
       "      <td>0</td>\n",
       "      <td>0</td>\n",
       "      <td>0</td>\n",
       "      <td>0</td>\n",
       "      <td>0</td>\n",
       "      <td>0</td>\n",
       "      <td>0</td>\n",
       "      <td>...</td>\n",
       "      <td>0</td>\n",
       "      <td>0</td>\n",
       "      <td>0</td>\n",
       "      <td>0</td>\n",
       "      <td>0</td>\n",
       "      <td>0</td>\n",
       "      <td>0</td>\n",
       "      <td>0</td>\n",
       "      <td>0</td>\n",
       "      <td>0</td>\n",
       "    </tr>\n",
       "    <tr>\n",
       "      <th>1</th>\n",
       "      <td>0</td>\n",
       "      <td>0</td>\n",
       "      <td>0</td>\n",
       "      <td>0</td>\n",
       "      <td>0</td>\n",
       "      <td>0</td>\n",
       "      <td>0</td>\n",
       "      <td>0</td>\n",
       "      <td>0</td>\n",
       "      <td>0</td>\n",
       "      <td>...</td>\n",
       "      <td>0</td>\n",
       "      <td>0</td>\n",
       "      <td>0</td>\n",
       "      <td>0</td>\n",
       "      <td>0</td>\n",
       "      <td>0</td>\n",
       "      <td>0</td>\n",
       "      <td>0</td>\n",
       "      <td>0</td>\n",
       "      <td>0</td>\n",
       "    </tr>\n",
       "    <tr>\n",
       "      <th>2</th>\n",
       "      <td>0</td>\n",
       "      <td>0</td>\n",
       "      <td>0</td>\n",
       "      <td>0</td>\n",
       "      <td>0</td>\n",
       "      <td>0</td>\n",
       "      <td>0</td>\n",
       "      <td>0</td>\n",
       "      <td>0</td>\n",
       "      <td>0</td>\n",
       "      <td>...</td>\n",
       "      <td>0</td>\n",
       "      <td>0</td>\n",
       "      <td>0</td>\n",
       "      <td>0</td>\n",
       "      <td>0</td>\n",
       "      <td>0</td>\n",
       "      <td>0</td>\n",
       "      <td>0</td>\n",
       "      <td>0</td>\n",
       "      <td>0</td>\n",
       "    </tr>\n",
       "    <tr>\n",
       "      <th>3</th>\n",
       "      <td>0</td>\n",
       "      <td>0</td>\n",
       "      <td>0</td>\n",
       "      <td>0</td>\n",
       "      <td>0</td>\n",
       "      <td>0</td>\n",
       "      <td>0</td>\n",
       "      <td>0</td>\n",
       "      <td>0</td>\n",
       "      <td>0</td>\n",
       "      <td>...</td>\n",
       "      <td>0</td>\n",
       "      <td>0</td>\n",
       "      <td>0</td>\n",
       "      <td>0</td>\n",
       "      <td>0</td>\n",
       "      <td>0</td>\n",
       "      <td>0</td>\n",
       "      <td>0</td>\n",
       "      <td>0</td>\n",
       "      <td>0</td>\n",
       "    </tr>\n",
       "    <tr>\n",
       "      <th>4</th>\n",
       "      <td>0</td>\n",
       "      <td>0</td>\n",
       "      <td>0</td>\n",
       "      <td>0</td>\n",
       "      <td>0</td>\n",
       "      <td>0</td>\n",
       "      <td>0</td>\n",
       "      <td>0</td>\n",
       "      <td>0</td>\n",
       "      <td>0</td>\n",
       "      <td>...</td>\n",
       "      <td>0</td>\n",
       "      <td>0</td>\n",
       "      <td>0</td>\n",
       "      <td>0</td>\n",
       "      <td>0</td>\n",
       "      <td>0</td>\n",
       "      <td>0</td>\n",
       "      <td>0</td>\n",
       "      <td>0</td>\n",
       "      <td>0</td>\n",
       "    </tr>\n",
       "  </tbody>\n",
       "</table>\n",
       "<p>5 rows × 5000 columns</p>\n",
       "</div>"
      ],
      "text/plain": [
       "   abc  abide  ability  able  abortion  about  absence  absolute  absolutely  \\\n",
       "0    0      0        0     0         0      0        0         0           0   \n",
       "1    0      0        0     0         0      0        0         0           0   \n",
       "2    0      0        0     0         0      0        0         0           0   \n",
       "3    0      0        0     0         0      0        0         0           0   \n",
       "4    0      0        0     0         0      0        0         0           0   \n",
       "\n",
       "   absurd  ...  yourselfgo  youth  youtube  youve  ytmndin  yugoslavia  \\\n",
       "0       0  ...           0      0        0      0        0           0   \n",
       "1       0  ...           0      0        0      0        0           0   \n",
       "2       0  ...           0      0        0      0        0           0   \n",
       "3       0  ...           0      0        0      0        0           0   \n",
       "4       0  ...           0      0        0      0        0           0   \n",
       "\n",
       "   zealand  zero  zionist  zone  \n",
       "0        0     0        0     0  \n",
       "1        0     0        0     0  \n",
       "2        0     0        0     0  \n",
       "3        0     0        0     0  \n",
       "4        0     0        0     0  \n",
       "\n",
       "[5 rows x 5000 columns]"
      ]
     },
     "execution_count": 67,
     "metadata": {},
     "output_type": "execute_result"
    }
   ],
   "source": [
    "pd.DataFrame(X_train_dtm.A[:5], columns = vect.get_feature_names())"
   ]
  },
  {
   "cell_type": "markdown",
   "id": "9d2506c4",
   "metadata": {},
   "source": [
    "The above dataframe is showing our Bag of words. For e.g. the word absolutely is in 1st sentence 0 time, which is quite sparse already. \n",
    "\n",
    "We will use this dataframe as our imput for our ML Multi Classifier. "
   ]
  },
  {
   "cell_type": "markdown",
   "id": "76b96538",
   "metadata": {},
   "source": [
    "#### e. Initialise and Train the Multi Output Classfier Models"
   ]
  },
  {
   "cell_type": "markdown",
   "id": "4f7512a2",
   "metadata": {},
   "source": [
    "In our use case, we have to classify each sentence if is corresponding to a specific level of toxicity or not, i.e. we will have 6 inputs as the number of pre-set labels. This process is called Multi-Label Classification which is different from multi-class classification, where the prediction has more than 2 options, e.g. postivie, negative, or neutral. \n",
    "\n",
    "We will use a MultiOutputClassifier from sklearn which is a wrapper. What we gonna do is basically fit one classifier per target. "
   ]
  },
  {
   "cell_type": "code",
   "execution_count": 68,
   "id": "ddc7f04c",
   "metadata": {},
   "outputs": [],
   "source": [
    "#Let's initialize and fit the model on the Trainign data\n",
    "\n",
    "#Naive Bayes Model\n",
    "nb = MultiOutputClassifier(MultinomialNB()).fit(X_train_dtm, y_train)\n",
    "\n",
    "#Logistic Regression Model \n",
    "#(As we have unbalanced dataset, we use class_weight. The “balanced” mode uses the values of y \n",
    "#to automatically adjust weights inversely proportional to class frequencies in the input data \n",
    "#as n_samples / (n_classes * np.bincount(y)).\n",
    "\n",
    "lr = MultiOutputClassifier(LogisticRegression(class_weight='balanced', max_iter=3000)) \\\n",
    "                    .fit(X_train_dtm, y_train)"
   ]
  },
  {
   "cell_type": "markdown",
   "id": "6d04d1f1",
   "metadata": {},
   "source": [
    "#### f. Measuring performance on Validation data"
   ]
  },
  {
   "cell_type": "markdown",
   "id": "735df75f",
   "metadata": {},
   "source": [
    "The Evaluation metrics we will be using is the `ROC-AUC`. We will use this metrics to evaluate all models we will be training. More specifically, we will be using the `predict_proba` function which gives us the probability scores on the prediction. "
   ]
  },
  {
   "cell_type": "code",
   "execution_count": 69,
   "id": "0e6dbd85",
   "metadata": {},
   "outputs": [],
   "source": [
    "#Function for calculating roc-auc with the binary values on the target variables\n",
    "#and the probability score made by the model\n",
    "\n",
    "def calculate_roc_auc(y_test, y_pred):\n",
    "    aucs = []\n",
    "    \n",
    "    #Calculate the ROC-AUC for each of the target column\n",
    "    for col in range(y_test.shape[1]):\n",
    "        aucs.append(roc_auc_score(y_test[:,col],y_pred[:,col]))\n",
    "    return aucs"
   ]
  },
  {
   "cell_type": "code",
   "execution_count": 70,
   "id": "52b9d14a",
   "metadata": {},
   "outputs": [
    {
     "data": {
      "text/html": [
       "<div>\n",
       "<style scoped>\n",
       "    .dataframe tbody tr th:only-of-type {\n",
       "        vertical-align: middle;\n",
       "    }\n",
       "\n",
       "    .dataframe tbody tr th {\n",
       "        vertical-align: top;\n",
       "    }\n",
       "\n",
       "    .dataframe thead th {\n",
       "        text-align: right;\n",
       "    }\n",
       "</style>\n",
       "<table border=\"1\" class=\"dataframe\">\n",
       "  <thead>\n",
       "    <tr style=\"text-align: right;\">\n",
       "      <th></th>\n",
       "      <th>Model</th>\n",
       "      <th>Mean AUC</th>\n",
       "    </tr>\n",
       "  </thead>\n",
       "  <tbody>\n",
       "    <tr>\n",
       "      <th>0</th>\n",
       "      <td>MultinomialNB</td>\n",
       "      <td>0.94</td>\n",
       "    </tr>\n",
       "    <tr>\n",
       "      <th>1</th>\n",
       "      <td>LogisticRegression</td>\n",
       "      <td>0.94</td>\n",
       "    </tr>\n",
       "  </tbody>\n",
       "</table>\n",
       "</div>"
      ],
      "text/plain": [
       "                Model  Mean AUC\n",
       "0       MultinomialNB      0.94\n",
       "1  LogisticRegression      0.94"
      ]
     },
     "execution_count": 70,
     "metadata": {},
     "output_type": "execute_result"
    }
   ],
   "source": [
    "#Creating an empty list of results\n",
    "results = []\n",
    "\n",
    "#Making predictions from all the trained models and measure performance for each\n",
    "for model in [nb,lr]:\n",
    "    #Extracting name of the model\n",
    "    est = type(model.estimator).__name__\n",
    "    #Actual output variables\n",
    "    y_vals = y_val.to_numpy()\n",
    "    #Model Probabilities for class 1 of each of the target variables\n",
    "    y_preds = np.transpose(np.array(model.predict_proba(X_val_dtm))[:,:,1])\n",
    "    #Calculate Mean of the ROC-AUC\n",
    "    mean_auc = mean(calculate_roc_auc(y_vals,y_preds))\n",
    "    #Append the name of the model and the mean_roc_auc into the results list\n",
    "    results.append([est, mean_auc])\n",
    "    \n",
    "#Output the results as a table\n",
    "pd.DataFrame(results, columns = [\"Model\",\"Mean AUC\"])"
   ]
  },
  {
   "cell_type": "markdown",
   "id": "b6316fff",
   "metadata": {},
   "source": [
    "#### g. Predicting test data"
   ]
  },
  {
   "cell_type": "code",
   "execution_count": 71,
   "id": "ea72e57a",
   "metadata": {},
   "outputs": [],
   "source": [
    "#Merging the test dataset with sample_submission to have all the columns:\n",
    "#id,text_data and the target variables in one dataframe\n",
    "df_test = pd.merge(test_text, sample_submission, on = \"id\")\n",
    "\n",
    "#Transform the test dataset as well based on Bag of Words/ Count Vectorizer as the Logistic model would \n",
    "#expect the same\n",
    "\n",
    "X_test_dtm = vect.transform(df_test[\"comment_text\"])\n",
    "\n",
    "#Use the Logistic Regression model to output probabilities and take the probability for class 1\n",
    "y_preds = np.transpose(np.array(lr.predict_proba(X_test_dtm))[:,:,1])\n",
    "\n",
    "#Assign the predictions by the model in the final test dataset\n",
    "df_test[y_cols] = y_preds\n",
    "\n",
    "#Drop Comment Text as the sample submission doesnt have it and wouldnt be expected\n",
    "df_test.drop([\"comment_text\"], axis = 1, inplace = True)\n",
    "\n",
    "#Save the dataset as a csv to submit it\n",
    "df_test.to_csv(\"sample_submission_bag_of_words.csv\", index = False)"
   ]
  },
  {
   "cell_type": "markdown",
   "id": "997d6ad2",
   "metadata": {},
   "source": [
    "#### h. Model Interpretation"
   ]
  },
  {
   "cell_type": "markdown",
   "id": "4872a291",
   "metadata": {},
   "source": [
    "In order to understand the level of prediction, i.e. to understand the level of prediction, we will use the coefficient values of the Logistic Regression model to get an understanding of the predictions made."
   ]
  },
  {
   "cell_type": "code",
   "execution_count": 18,
   "id": "d70048ab",
   "metadata": {},
   "outputs": [
    {
     "data": {
      "text/html": [
       "<div>\n",
       "<style scoped>\n",
       "    .dataframe tbody tr th:only-of-type {\n",
       "        vertical-align: middle;\n",
       "    }\n",
       "\n",
       "    .dataframe tbody tr th {\n",
       "        vertical-align: top;\n",
       "    }\n",
       "\n",
       "    .dataframe thead th {\n",
       "        text-align: right;\n",
       "    }\n",
       "</style>\n",
       "<table border=\"1\" class=\"dataframe\">\n",
       "  <thead>\n",
       "    <tr style=\"text-align: right;\">\n",
       "      <th></th>\n",
       "      <th>word</th>\n",
       "      <th>toxic</th>\n",
       "      <th>severe_toxic</th>\n",
       "      <th>obscene</th>\n",
       "      <th>threat</th>\n",
       "      <th>insult</th>\n",
       "      <th>identity_hate</th>\n",
       "    </tr>\n",
       "  </thead>\n",
       "  <tbody>\n",
       "    <tr>\n",
       "      <th>0</th>\n",
       "      <td>abc</td>\n",
       "      <td>-0.96</td>\n",
       "      <td>-0.27</td>\n",
       "      <td>-0.78</td>\n",
       "      <td>-1.14</td>\n",
       "      <td>0.14</td>\n",
       "      <td>-0.77</td>\n",
       "    </tr>\n",
       "    <tr>\n",
       "      <th>1</th>\n",
       "      <td>abide</td>\n",
       "      <td>-0.71</td>\n",
       "      <td>-0.03</td>\n",
       "      <td>0.31</td>\n",
       "      <td>-0.18</td>\n",
       "      <td>-0.42</td>\n",
       "      <td>-0.15</td>\n",
       "    </tr>\n",
       "    <tr>\n",
       "      <th>2</th>\n",
       "      <td>ability</td>\n",
       "      <td>0.31</td>\n",
       "      <td>-0.34</td>\n",
       "      <td>-0.13</td>\n",
       "      <td>-0.33</td>\n",
       "      <td>-0.39</td>\n",
       "      <td>-0.90</td>\n",
       "    </tr>\n",
       "    <tr>\n",
       "      <th>3</th>\n",
       "      <td>able</td>\n",
       "      <td>-0.47</td>\n",
       "      <td>-0.47</td>\n",
       "      <td>0.02</td>\n",
       "      <td>-1.49</td>\n",
       "      <td>-0.81</td>\n",
       "      <td>-0.86</td>\n",
       "    </tr>\n",
       "    <tr>\n",
       "      <th>4</th>\n",
       "      <td>abortion</td>\n",
       "      <td>-1.37</td>\n",
       "      <td>-0.07</td>\n",
       "      <td>0.56</td>\n",
       "      <td>-0.05</td>\n",
       "      <td>0.58</td>\n",
       "      <td>0.87</td>\n",
       "    </tr>\n",
       "  </tbody>\n",
       "</table>\n",
       "</div>"
      ],
      "text/plain": [
       "       word  toxic  severe_toxic  obscene  threat  insult  identity_hate\n",
       "0       abc  -0.96         -0.27    -0.78   -1.14    0.14          -0.77\n",
       "1     abide  -0.71         -0.03     0.31   -0.18   -0.42          -0.15\n",
       "2   ability   0.31         -0.34    -0.13   -0.33   -0.39          -0.90\n",
       "3      able  -0.47         -0.47     0.02   -1.49   -0.81          -0.86\n",
       "4  abortion  -1.37         -0.07     0.56   -0.05    0.58           0.87"
      ]
     },
     "execution_count": 18,
     "metadata": {},
     "output_type": "execute_result"
    }
   ],
   "source": [
    "#Assigning the feature names to an empty list\n",
    "feat_impts = [vect.get_feature_names()]\n",
    "\n",
    "#For all the models save the feature importances in the list.estimators_ \n",
    "#would give the internal models used by the multioutput regressor\n",
    "for clf in lr.estimators_:\n",
    "    feat_impts.append(clf.coef_.flatten())\n",
    "    \n",
    "#Saving the results in a dataframe\n",
    "df_feats_impts = pd.DataFrame(np.transpose(np.array(feat_impts)), \n",
    "                              columns = [\"word\",\"toxic\",\"severe_toxic\",\"obscene\",\"threat\",\"insult\",\"identity_hate\"])\n",
    "\n",
    "#Converting Feature Importance Columns from string to float\n",
    "df_feats_impts[y_cols] = df_feats_impts[y_cols].astype(\"float32\")\n",
    "df_feats_impts.head()"
   ]
  },
  {
   "cell_type": "markdown",
   "id": "9862dc92",
   "metadata": {},
   "source": [
    "We will look at Top 5 words which determine if the sentence is a toxic-type or not according to the model"
   ]
  },
  {
   "cell_type": "code",
   "execution_count": 19,
   "id": "627c9ac7",
   "metadata": {},
   "outputs": [
    {
     "data": {
      "image/png": "[encoded data removed]",
      "text/plain": [
       "<Figure size 720x360 with 6 Axes>"
      ]
     },
     "metadata": {
      "needs_background": "light"
     },
     "output_type": "display_data"
    }
   ],
   "source": [
    "#Creating Individual Feature Importance table by sorting on specific toxic-type column and selecting top 5 words\n",
    "\n",
    "toxic_fi = df_feats_impts[[\"word\",\"toxic\"]].sort_values(by = \"toxic\", ascending = False).head()\n",
    "severe_toxic_fi = df_feats_impts[[\"word\",\"severe_toxic\"]].sort_values(by = \"severe_toxic\", ascending = False).head()\n",
    "obscene_fi = df_feats_impts[[\"word\",\"obscene\"]].sort_values(by = \"obscene\", ascending = False).head()\n",
    "threat_fi = df_feats_impts[[\"word\",\"threat\"]].sort_values(by = \"threat\", ascending = False).head()\n",
    "insult_fi = df_feats_impts[[\"word\",\"insult\"]].sort_values(by = \"insult\", ascending = False).head()\n",
    "identity_hate_fi = df_feats_impts[[\"word\",\"identity_hate\"]].sort_values(by = \"identity_hate\", ascending = False).head()\n",
    "\n",
    "#Plotting top 5 words based on coefficient values from the LR model\n",
    "fig,(ax1, ax2) =  plt.subplots(2,3,figsize=(10,5))\n",
    "sns.barplot(x = \"toxic\", y = \"word\", ax = ax1[0], data = toxic_fi)\n",
    "sns.barplot(x = \"severe_toxic\", y = \"word\", ax = ax1[1], data = severe_toxic_fi)\n",
    "sns.barplot(x = \"obscene\", y = \"word\", ax = ax1[2], data = obscene_fi)\n",
    "sns.barplot(x = \"threat\", y = \"word\", ax = ax2[0], data = threat_fi)\n",
    "sns.barplot(x = \"insult\", y = \"word\", ax = ax2[1], data = insult_fi)\n",
    "sns.barplot(x = \"identity_hate\", y = \"word\", ax = ax2[2], data = identity_hate_fi)\n",
    "plt.suptitle(\"Feature Importance\")\n",
    "fig.tight_layout(rect=[0, 0.03, 1, 0.95])\n",
    "plt.show()"
   ]
  },
  {
   "cell_type": "markdown",
   "id": "86ac209c",
   "metadata": {},
   "source": [
    "### 2. Word2Vec"
   ]
  },
  {
   "cell_type": "markdown",
   "id": "f8348a2c",
   "metadata": {},
   "source": [
    "In this section, we will use an other approach compared to the one we have applied to the Bag of Words. \n",
    "Instead of using the `CountVectorizer`, we will use a `Word2Vec` model to create an embedding. Word embeddings give a dense reppresentation in which similar words have similar encodig. \n",
    "\n",
    "Embeddings through Word2Vec has proven to be quite sucesfful on many NLP problems. "
   ]
  },
  {
   "cell_type": "markdown",
   "id": "244e6029",
   "metadata": {},
   "source": [
    "#### a. Importing the required libraries"
   ]
  },
  {
   "cell_type": "code",
   "execution_count": 2,
   "id": "c04b9635",
   "metadata": {},
   "outputs": [
    {
     "name": "stdout",
     "output_type": "stream",
     "text": [
      "time: 331 µs (started: 2021-10-10 18:25:14 +02:00)\n"
     ]
    }
   ],
   "source": [
    "#!pip install ipython-autotime \n",
    "\n",
    "import numpy as np # linear algebra\n",
    "import pandas as pd # data processing, CSV file I/O (e.g. pd.read_csv)\n",
    "\n",
    "from gensim.models import Word2Vec, KeyedVectors\n",
    "\n",
    "from nltk.tokenize import word_tokenize\n",
    "from nltk.corpus import stopwords\n",
    "from string import punctuation\n",
    "from tqdm.notebook import tqdm\n",
    "\n",
    "from sklearn.multioutput import MultiOutputClassifier\n",
    "from sklearn.linear_model import LogisticRegression\n",
    "from sklearn.model_selection import train_test_split\n",
    "from sklearn.metrics import roc_auc_score\n",
    "\n",
    "from statistics import mean\n",
    "%load_ext autotime"
   ]
  },
  {
   "cell_type": "markdown",
   "id": "8258f687",
   "metadata": {},
   "source": [
    "#### b. Load the Datset"
   ]
  },
  {
   "cell_type": "code",
   "execution_count": 3,
   "id": "09fd0ca0",
   "metadata": {},
   "outputs": [
    {
     "name": "stdout",
     "output_type": "stream",
     "text": [
      "time: 1.7 s (started: 2021-10-10 18:25:14 +02:00)\n"
     ]
    }
   ],
   "source": [
    "df_train = pd.read_csv(\"/Users/stefano/UDACITY/Data Engeeniring/Capstone/Data/train.csv\")\n",
    "df_test = pd.read_csv(\"/Users/stefano/UDACITY/Data Engeeniring/Capstone/Data/test.csv\")\n",
    "sample_submission = pd.read_csv(\"/Users/stefano/UDACITY/Data Engeeniring/Capstone/Data/sample_submission.csv\")"
   ]
  },
  {
   "cell_type": "code",
   "execution_count": 4,
   "id": "86db153d",
   "metadata": {},
   "outputs": [
    {
     "name": "stdout",
     "output_type": "stream",
     "text": [
      "Example Training Text:\n",
      "\n",
      " Explanation\n",
      "Why the edits made under my username Hardcore Metallica Fan were reverted? They weren't vandalisms, just closure on some GAs after I voted at New York Dolls FAC. And please don't remove the template from the talk page since I'm retired now.89.205.38.27\n",
      "time: 28.9 ms (started: 2021-10-10 18:25:15 +02:00)\n"
     ]
    }
   ],
   "source": [
    "train_texts = list(df_train[\"comment_text\"].values)\n",
    "train_labels = df_train[['toxic', 'severe_toxic', 'obscene', 'threat','insult', 'identity_hate']].to_numpy()\n",
    "test_texts = list(df_test[\"comment_text\"].values)\n",
    "print(\"Example Training Text:\\n\\n\",train_texts[0])"
   ]
  },
  {
   "cell_type": "markdown",
   "id": "382594f4",
   "metadata": {},
   "source": [
    "We have around 160k training texts and about 153k test texts"
   ]
  },
  {
   "cell_type": "markdown",
   "id": "334e87b1",
   "metadata": {},
   "source": [
    "#### c. Data Preprocessing"
   ]
  },
  {
   "cell_type": "code",
   "execution_count": 5,
   "id": "a3364c3e",
   "metadata": {},
   "outputs": [
    {
     "data": {
      "application/vnd.jupyter.widget-view+json": {
       "model_id": "0c4db52f62ec42d28f4f533c15e31c4a",
       "version_major": 2,
       "version_minor": 0
      },
      "text/plain": [
       "  0%|          | 0/159571 [00:00<?, ?it/s]"
      ]
     },
     "metadata": {},
     "output_type": "display_data"
    },
    {
     "data": {
      "application/vnd.jupyter.widget-view+json": {
       "model_id": "2c4e8ff4be3745bdb14370982dd6de7c",
       "version_major": 2,
       "version_minor": 0
      },
      "text/plain": [
       "  0%|          | 0/153164 [00:00<?, ?it/s]"
      ]
     },
     "metadata": {},
     "output_type": "display_data"
    },
    {
     "name": "stdout",
     "output_type": "stream",
     "text": [
      "Example Training Prepocessed Text\n",
      "\n",
      " ['explanation', 'why', 'edits', 'made', 'username', 'hardcore', 'metallica', 'fan', 'reverted', 'they', \"n't\", 'vandalisms', 'closure', 'gas', 'i', 'voted', 'new', 'york', 'dolls', 'fac', 'and', 'please', \"n't\", 'remove', 'template', 'talk', 'page', 'since', 'i', \"'m\", 'retired', 'now.89.205.38.27']\n",
      "time: 2min 48s (started: 2021-10-10 18:25:15 +02:00)\n"
     ]
    }
   ],
   "source": [
    "def preprocess_corpus(texts):\n",
    "    #remove all english stopwords\n",
    "    \n",
    "    mystopwords = set(stopwords.words(\"english\"))\n",
    "    \n",
    "    def remove_stops_digits(tokens):\n",
    "        \n",
    "        #Nested function that lowercases, removes stopwords and digits from a list of tokens\n",
    "        return [token.lower() for token in tokens if token not in mystopwords and not token.isdigit()\n",
    "               and token not in punctuation]\n",
    "    \n",
    "    #This return statement below uses the above function and tokenizes even further. \n",
    "    return [remove_stops_digits(word_tokenize(text)) for text in tqdm(texts)]\n",
    "\n",
    "#Preprocess both for training and test data\n",
    "\n",
    "train_texts_processed = preprocess_corpus(train_texts)\n",
    "test_texts_processed = preprocess_corpus(test_texts)\n",
    "\n",
    "print(\"Example Training Prepocessed Text\\n\\n\", train_texts_processed[0])"
   ]
  },
  {
   "cell_type": "markdown",
   "id": "4aed618f",
   "metadata": {},
   "source": [
    "#### d. Load a pre-train embedding model"
   ]
  },
  {
   "cell_type": "code",
   "execution_count": 6,
   "id": "a295edad",
   "metadata": {},
   "outputs": [
    {
     "name": "stdout",
     "output_type": "stream",
     "text": [
      "time: 53.2 s (started: 2021-10-10 18:28:03 +02:00)\n"
     ]
    }
   ],
   "source": [
    "import gensim\n",
    "\n",
    "#Path for the models/ embedding vector\n",
    "filename = '/Users/stefano/UDACITY/Data Engeeniring/Capstone/input/GoogleNews-vectors-negative300.bin.gz'\n",
    "\n",
    "#Loading the models/ embedding vector using KeyedVectors.load function from gensim\n",
    "model = gensim.models.KeyedVectors.load_word2vec_format(filename, binary=True)"
   ]
  },
  {
   "cell_type": "code",
   "execution_count": 7,
   "id": "4427a0f8",
   "metadata": {},
   "outputs": [
    {
     "name": "stdout",
     "output_type": "stream",
     "text": [
      "3000000\n",
      "time: 6.74 ms (started: 2021-10-10 18:28:57 +02:00)\n"
     ]
    }
   ],
   "source": [
    "#Print lengths/number of words in the embedding\n",
    "print(len(model.index_to_key))"
   ]
  },
  {
   "cell_type": "markdown",
   "id": "e25c6867",
   "metadata": {},
   "source": [
    "Goggle News model/ embedding vector has about 3 M words. Let's have a look at an example of an embedding which is essentialy a dictionary where the key is the word and value is the embedding vector for that word."
   ]
  },
  {
   "cell_type": "code",
   "execution_count": 8,
   "id": "2e4d2328",
   "metadata": {},
   "outputs": [
    {
     "name": "stdout",
     "output_type": "stream",
     "text": [
      "Shape of embedding vector (300,)\n",
      "First 20 numbers in the embedding of the word Natural\n",
      "\n",
      " [-0.22753906 -0.07617188 -0.06787109 -0.1015625   0.20214844  0.12890625\n",
      "  0.1796875  -0.11035156  0.01123047  0.01794434  0.12402344  0.11132812\n",
      " -0.3359375  -0.01104736 -0.16015625 -0.16113281 -0.13769531  0.4296875\n",
      " -0.03979492  0.05297852]\n",
      "time: 17.9 ms (started: 2021-10-10 18:28:57 +02:00)\n"
     ]
    }
   ],
   "source": [
    "#Print Shape of the embedding\n",
    "print(\"Shape of embedding vector\", model[\"Natural\"].shape)\n",
    "\n",
    "#Let's print first 20 dimensions rather than all 300\n",
    "print(\"First 20 numbers in the embedding of the word Natural\\n\\n\", model[\"Natural\"][:20])"
   ]
  },
  {
   "cell_type": "markdown",
   "id": "c65ad4e6",
   "metadata": {},
   "source": [
    "#### e. Convert text inputs into embeddings using pre trained model"
   ]
  },
  {
   "cell_type": "code",
   "execution_count": 9,
   "id": "853205b3",
   "metadata": {},
   "outputs": [
    {
     "name": "stdout",
     "output_type": "stream",
     "text": [
      "time: 7.3 ms (started: 2021-10-10 18:28:57 +02:00)\n"
     ]
    }
   ],
   "source": [
    "#Function that takes in the input text dataset in form of list of lists where each sentence is a list of words all the sentences are \n",
    "#inside a list\n",
    "\n",
    "def embedding_feats(list_of_lists, DIMENSION, w2v_model):\n",
    "    zeros_vector = np.zeros(DIMENSION)\n",
    "    feats = []\n",
    "    missing = set()\n",
    "    missing_sentences = set()\n",
    "    #Traverse over each sentence\n",
    "    for tokens in tqdm(list_of_lists):\n",
    "        # Initially assign zeroes as the embedding vector for the sentence\n",
    "        feat_for_this = zeros_vector\n",
    "        #Count the number of words in the embedding for this sentence\n",
    "        count_for_this = 0\n",
    "        #Traverse over each word of a sentence\n",
    "        for token in tokens:\n",
    "            #Check if the word is in the embedding vector\n",
    "            if token in w2v_model:\n",
    "                #Add the vector of the word to vector for the sentence\n",
    "                feat_for_this += w2v_model[token]\n",
    "                count_for_this +=1\n",
    "            #Else assign the missing word to missing set just to have a look at it\n",
    "            else:\n",
    "                missing.add(token)\n",
    "        #If no words are found in the embedding for the sentence\n",
    "        if count_for_this == 0:\n",
    "            #Assign all zeroes vector for that sentence\n",
    "            feats.append(feat_for_this)\n",
    "            #Assign the missing sentence to missing_sentences just to have a look at it\n",
    "            missing_sentences.add(' '.join(tokens))\n",
    "        #Else take average of the values of the embedding for each word to get the embedding of the sentence\n",
    "        else:\n",
    "            feats.append(feat_for_this/count_for_this)\n",
    "    return feats, missing, missing_sentences"
   ]
  },
  {
   "cell_type": "code",
   "execution_count": 10,
   "id": "2635e79c",
   "metadata": {},
   "outputs": [
    {
     "data": {
      "application/vnd.jupyter.widget-view+json": {
       "model_id": "120bbd941a8240d6883a66c1cdcb52b3",
       "version_major": 2,
       "version_minor": 0
      },
      "text/plain": [
       "  0%|          | 0/159571 [00:12<?, ?it/s]"
      ]
     },
     "metadata": {},
     "output_type": "display_data"
    },
    {
     "name": "stdout",
     "output_type": "stream",
     "text": [
      "time: 2min 39s (started: 2021-10-10 18:28:57 +02:00)\n"
     ]
    }
   ],
   "source": [
    "#Embeddings for the train dataset\n",
    "\n",
    "train_vectors, missing, missing_sentences = embedding_feats(train_texts_processed, 300, model)"
   ]
  },
  {
   "cell_type": "code",
   "execution_count": 11,
   "id": "3e821d38",
   "metadata": {
    "scrolled": true
   },
   "outputs": [
    {
     "name": "stdout",
     "output_type": "stream",
     "text": [
      "Shape of the final embeddings for the sentences (159571, 300)\n",
      "First 20 numbers in the embedding of the first train sentence\n",
      "\n",
      " [ 0.01282094  0.07879842  0.02510173  0.08058929 -0.05929769 -0.0129928\n",
      " -0.01726329 -0.09076614  0.07128092  0.0426658  -0.0269399  -0.1129715\n",
      " -0.05300395  0.01384761 -0.08168869  0.10279338  0.01549072  0.05962321\n",
      "  0.03122152 -0.08815613]\n",
      "time: 998 ms (started: 2021-10-10 18:31:36 +02:00)\n"
     ]
    }
   ],
   "source": [
    "print(\"Shape of the final embeddings for the sentences\", np.array(train_vectors).shape)\n",
    "print(\"First 20 numbers in the embedding of the first train sentence\\n\\n\", np.array(train_vectors)[0][:20])"
   ]
  },
  {
   "cell_type": "markdown",
   "id": "bc5c435a",
   "metadata": {},
   "source": [
    "To summarize, each sentence will have one 300 dimensional embedding vector which will be an average of the word embeddings present in that sentence. The word embeddings are taken from the pretrained word embeddings that was trained on google news to find the embedding."
   ]
  },
  {
   "cell_type": "markdown",
   "id": "e418bc0d",
   "metadata": {},
   "source": [
    "#### f. Train and Validate the Multi-Output Classifier"
   ]
  },
  {
   "cell_type": "markdown",
   "id": "fe09936d",
   "metadata": {},
   "source": [
    "As we are facing a Multi-Label Classification problem, the steps we will apply are: \n",
    "    \n",
    "    1. load the embedding vector from the training dataset;\n",
    "    2. split the embedding vector into train and validation set;\n",
    "    3. Apply a LogisticRegression on training embedding vector and output variables\n",
    "    4. Make prediction and Evaluate the model"
   ]
  },
  {
   "cell_type": "code",
   "execution_count": 12,
   "id": "61f84bb5",
   "metadata": {},
   "outputs": [
    {
     "name": "stdout",
     "output_type": "stream",
     "text": [
      "time: 624 µs (started: 2021-10-10 18:31:37 +02:00)\n"
     ]
    }
   ],
   "source": [
    "#Function for calculating roc auc with given actual binary values across target variables\n",
    "#and the probability score made by the model\n",
    "def accuracy(y_test, y_pred):\n",
    "    aucs = []\n",
    "    #Calculate the ROC-AUC for each of the target column\n",
    "    for col in range(y_test.shape[1]):\n",
    "        aucs.append(roc_auc_score(y_test[:,col],y_pred[:,col]))\n",
    "    return aucs"
   ]
  },
  {
   "cell_type": "code",
   "execution_count": 13,
   "id": "594a9abf",
   "metadata": {},
   "outputs": [
    {
     "name": "stdout",
     "output_type": "stream",
     "text": [
      "time: 4.07 ms (started: 2021-10-10 18:31:37 +02:00)\n"
     ]
    }
   ],
   "source": [
    "def train_model(DIMENSION, model):\n",
    "    #Get the embedding vector for the training data\n",
    "    train_vectors, missing, missing_sentences = embedding_feats(train_texts_processed, DIMENSION, model)\n",
    "    \n",
    "    #Split the embedding vector for the training data along with the output variables\n",
    "    #into train and validation sets\n",
    "    train_data, val_data, train_cats, val_cats = train_test_split(train_vectors, train_labels)\n",
    "    \n",
    "    #Logistic Regression Model (As we have unbalanced dataset, we use class_weight which will use inverse\n",
    "    #of counts of that class. It penalizes mistakes in samples of class[i] with class_weight[i] instead of 1)\n",
    "    lr = MultiOutputClassifier(LogisticRegression(class_weight='balanced', max_iter=3000)).fit(train_data, train_cats)\n",
    "    \n",
    "    #Actuals for the validation data\n",
    "    y_vals = val_cats\n",
    "    #Prediction probability for the validation dataset by the model for class 1\n",
    "    y_preds = np.transpose(np.array(lr.predict_proba(val_data))[:,:,1])\n",
    "    #Calculate the Mean ROC_AUC \n",
    "    mean_auc = mean(accuracy(y_vals,y_preds))\n",
    "    return mean_auc, lr"
   ]
  },
  {
   "cell_type": "code",
   "execution_count": 14,
   "id": "377b5a93",
   "metadata": {},
   "outputs": [
    {
     "data": {
      "application/vnd.jupyter.widget-view+json": {
       "model_id": "e56703ddcb8d4de38de1ed38a5f7a493",
       "version_major": 2,
       "version_minor": 0
      },
      "text/plain": [
       "  0%|          | 0/159571 [00:00<?, ?it/s]"
      ]
     },
     "metadata": {},
     "output_type": "display_data"
    },
    {
     "name": "stdout",
     "output_type": "stream",
     "text": [
      "0.5695784673882687\n",
      "time: 1min 22s (started: 2021-10-10 18:31:37 +02:00)\n"
     ]
    }
   ],
   "source": [
    "mean_auc, lr = train_model(300, model)\n",
    "print(mean_auc)"
   ]
  },
  {
   "cell_type": "markdown",
   "id": "19e5923c",
   "metadata": {},
   "source": [
    "This model turns out to be pretty moderate. This might be because of the pretrained embeddings not correctly capturing the details. We could instead train an embedding of our own using Word2Vec."
   ]
  },
  {
   "cell_type": "code",
   "execution_count": 15,
   "id": "d4509462",
   "metadata": {},
   "outputs": [
    {
     "data": {
      "application/vnd.jupyter.widget-view+json": {
       "model_id": "55a1a8c5a6394a6da59d3ad71f68cd2c",
       "version_major": 2,
       "version_minor": 0
      },
      "text/plain": [
       "  0%|          | 0/153164 [00:00<?, ?it/s]"
      ]
     },
     "metadata": {},
     "output_type": "display_data"
    },
    {
     "name": "stdout",
     "output_type": "stream",
     "text": [
      "time: 1min 9s (started: 2021-10-10 18:33:00 +02:00)\n"
     ]
    }
   ],
   "source": [
    "# Merging the test dataset with sample_submission to have all the columns:\n",
    "#id,text_data and the target variables in one dataframe\n",
    "df_test = pd.merge(df_test, sample_submission, on = \"id\")\n",
    "\n",
    "#Getting the embedding matrix for test texts \n",
    "test_vectors, _, _ = embedding_feats(test_texts_processed, 300, model)\n",
    "\n",
    "#Use the Logistic Regression model to output probabilities and take the probability for class 1\n",
    "y_preds = np.transpose(np.array(lr.predict_proba(test_vectors))[:,:,1])\n",
    "\n",
    "#Assign the predictions by the model in the final test dataset\n",
    "df_test[[\"toxic\",\"severe_toxic\",\"obscene\",\"threat\",\"insult\",\"identity_hate\"]] = y_preds\n",
    "\n",
    "#Drop Comment Text as the sample submission doesnt have it and wouldnt be expected\n",
    "df_test.drop([\"comment_text\"], axis = 1, inplace = True)\n",
    "\n",
    "#Save the dataset as a csv to submit it\n",
    "df_test.to_csv(\"sample_submission_word2vec.csv\", index = False)"
   ]
  },
  {
   "cell_type": "markdown",
   "id": "e4358a7f",
   "metadata": {},
   "source": [
    "### 3. FastText"
   ]
  },
  {
   "cell_type": "markdown",
   "id": "4f39c3fc",
   "metadata": {},
   "source": [
    "In this section we wil use an other model developed by Facebook, which is still built around the concept of embeddings. The main difference compared to the word2vec is that we will avoid the problem of OOV. OOV means Out of Vocabulary. It is litteraly the case in which we add a new word in the test data for which we may be needed a new embeddings. The word2vec is basically skipping this word, while FastText is trying to get an embedding also for the OOV word. "
   ]
  },
  {
   "cell_type": "markdown",
   "id": "c5b2ae2b",
   "metadata": {},
   "source": [
    "#### a. Importing the required libraries"
   ]
  },
  {
   "cell_type": "code",
   "execution_count": 1,
   "id": "f7f8e1e9",
   "metadata": {},
   "outputs": [],
   "source": [
    "import pandas as pd\n",
    "import numpy as np\n",
    "from statistics import mean\n",
    "\n",
    "from fasttext import train_supervised\n",
    "\n",
    "#Sklearn Library\n",
    "from sklearn.model_selection import train_test_split\n",
    "from sklearn.metrics import roc_auc_score\n",
    "\n",
    "from tqdm.notebook import tqdm"
   ]
  },
  {
   "cell_type": "markdown",
   "id": "1c43f99d",
   "metadata": {},
   "source": [
    "#### b. Load the dataset"
   ]
  },
  {
   "cell_type": "code",
   "execution_count": 3,
   "id": "ddf7ac5c",
   "metadata": {},
   "outputs": [
    {
     "name": "stdout",
     "output_type": "stream",
     "text": [
      "(159571, 8) (153164, 2) (153164, 7)\n"
     ]
    },
    {
     "data": {
      "text/html": [
       "<div>\n",
       "<style scoped>\n",
       "    .dataframe tbody tr th:only-of-type {\n",
       "        vertical-align: middle;\n",
       "    }\n",
       "\n",
       "    .dataframe tbody tr th {\n",
       "        vertical-align: top;\n",
       "    }\n",
       "\n",
       "    .dataframe thead th {\n",
       "        text-align: right;\n",
       "    }\n",
       "</style>\n",
       "<table border=\"1\" class=\"dataframe\">\n",
       "  <thead>\n",
       "    <tr style=\"text-align: right;\">\n",
       "      <th></th>\n",
       "      <th>id</th>\n",
       "      <th>comment_text</th>\n",
       "      <th>toxic</th>\n",
       "      <th>severe_toxic</th>\n",
       "      <th>obscene</th>\n",
       "      <th>threat</th>\n",
       "      <th>insult</th>\n",
       "      <th>identity_hate</th>\n",
       "    </tr>\n",
       "  </thead>\n",
       "  <tbody>\n",
       "    <tr>\n",
       "      <th>0</th>\n",
       "      <td>0000997932d777bf</td>\n",
       "      <td>Explanation\\nWhy the edits made under my usern...</td>\n",
       "      <td>0</td>\n",
       "      <td>0</td>\n",
       "      <td>0</td>\n",
       "      <td>0</td>\n",
       "      <td>0</td>\n",
       "      <td>0</td>\n",
       "    </tr>\n",
       "    <tr>\n",
       "      <th>1</th>\n",
       "      <td>000103f0d9cfb60f</td>\n",
       "      <td>D'aww! He matches this background colour I'm s...</td>\n",
       "      <td>0</td>\n",
       "      <td>0</td>\n",
       "      <td>0</td>\n",
       "      <td>0</td>\n",
       "      <td>0</td>\n",
       "      <td>0</td>\n",
       "    </tr>\n",
       "    <tr>\n",
       "      <th>2</th>\n",
       "      <td>000113f07ec002fd</td>\n",
       "      <td>Hey man, I'm really not trying to edit war. It...</td>\n",
       "      <td>0</td>\n",
       "      <td>0</td>\n",
       "      <td>0</td>\n",
       "      <td>0</td>\n",
       "      <td>0</td>\n",
       "      <td>0</td>\n",
       "    </tr>\n",
       "    <tr>\n",
       "      <th>3</th>\n",
       "      <td>0001b41b1c6bb37e</td>\n",
       "      <td>\"\\nMore\\nI can't make any real suggestions on ...</td>\n",
       "      <td>0</td>\n",
       "      <td>0</td>\n",
       "      <td>0</td>\n",
       "      <td>0</td>\n",
       "      <td>0</td>\n",
       "      <td>0</td>\n",
       "    </tr>\n",
       "    <tr>\n",
       "      <th>4</th>\n",
       "      <td>0001d958c54c6e35</td>\n",
       "      <td>You, sir, are my hero. Any chance you remember...</td>\n",
       "      <td>0</td>\n",
       "      <td>0</td>\n",
       "      <td>0</td>\n",
       "      <td>0</td>\n",
       "      <td>0</td>\n",
       "      <td>0</td>\n",
       "    </tr>\n",
       "  </tbody>\n",
       "</table>\n",
       "</div>"
      ],
      "text/plain": [
       "                 id                                       comment_text  toxic  \\\n",
       "0  0000997932d777bf  Explanation\\nWhy the edits made under my usern...      0   \n",
       "1  000103f0d9cfb60f  D'aww! He matches this background colour I'm s...      0   \n",
       "2  000113f07ec002fd  Hey man, I'm really not trying to edit war. It...      0   \n",
       "3  0001b41b1c6bb37e  \"\\nMore\\nI can't make any real suggestions on ...      0   \n",
       "4  0001d958c54c6e35  You, sir, are my hero. Any chance you remember...      0   \n",
       "\n",
       "   severe_toxic  obscene  threat  insult  identity_hate  \n",
       "0             0        0       0       0              0  \n",
       "1             0        0       0       0              0  \n",
       "2             0        0       0       0              0  \n",
       "3             0        0       0       0              0  \n",
       "4             0        0       0       0              0  "
      ]
     },
     "execution_count": 3,
     "metadata": {},
     "output_type": "execute_result"
    }
   ],
   "source": [
    "train_text = pd.read_csv(\"/Users/stefano/UDACITY/Data Engeeniring/Capstone/Data/train.csv\")\n",
    "test_text = pd.read_csv(\"/Users/stefano/UDACITY/Data Engeeniring/Capstone/Data/test.csv\")\n",
    "sample_submission = pd.read_csv(\"/Users/stefano/UDACITY/Data Engeeniring/Capstone/Data/sample_submission.csv\")\n",
    "\n",
    "print(train_text.shape, test_text.shape, sample_submission.shape)\n",
    "train_text.head()"
   ]
  },
  {
   "cell_type": "markdown",
   "id": "7f05534a",
   "metadata": {},
   "source": [
    "#### c. Splitting dataset into training and validation"
   ]
  },
  {
   "cell_type": "code",
   "execution_count": 4,
   "id": "890f3cd4",
   "metadata": {},
   "outputs": [],
   "source": [
    "y_cols = [\"toxic\",\"severe_toxic\",\"obscene\",\"threat\",\"insult\",\"identity_hate\"]\n",
    "X = train_text.comment_text\n",
    "y = train_text[y_cols]\n",
    "\n",
    "train, val = train_test_split(train_text, shuffle = True, random_state = 123)"
   ]
  },
  {
   "cell_type": "markdown",
   "id": "2512ddc3",
   "metadata": {},
   "source": [
    "#### d. Pre processing data\n",
    "\n",
    "In this section we will clean and prepare the testing data for FastText. \n",
    "\n",
    "1. we remove some punctuaction by replacing it with a space and remove the \"\\n\" as quite present in the testing dataset;\n",
    "\n",
    "2. we do unicode normalization\n",
    "\n",
    "3. we convert the binary labels into __class0__ and __class 1__ as FastText use this vocabulary for prediction\n",
    "\n",
    "4. We will shuffle the data set to introduce some randomess"
   ]
  },
  {
   "cell_type": "code",
   "execution_count": 6,
   "id": "f0e6f6f8",
   "metadata": {},
   "outputs": [],
   "source": [
    "# Lets do some cleaning of this text\n",
    "def clean_it(text,normalize=True):\n",
    "    # Replacing possible issues with data. We can add or reduce the replacemtent in this chain\n",
    "    s = str(text).replace(',',' ').replace('\"','').replace('\\'',' \\' ').replace('.',' . ').replace('(',' ( ').\\\n",
    "            replace(')',' ) ').replace('!',' ! ').replace('?',' ? ').replace(':',' ').replace(';',' ').lower()\n",
    "    s = s.replace(\"\\n\",\" \")\n",
    "    \n",
    "    # normalizing / encoding the text\n",
    "    if normalize:\n",
    "        s = s.normalize('NFKD').str.encode('ascii','ignore').str.decode('utf-8')\n",
    "    \n",
    "    return s\n",
    "\n",
    "# Now lets define a small function where we can use above cleaning on datasets\n",
    "def clean_df(data, cleanit= False, shuffleit=False, encodeit=False, label_prefix='__class__'):\n",
    "    # Defining the new data\n",
    "    df = data[['comment_text']].copy(deep=True)\n",
    "    for col in y_cols:\n",
    "        df[col] = label_prefix + data[col].astype(str) + ' '\n",
    "    \n",
    "    # cleaning it\n",
    "    if cleanit:\n",
    "        df['comment_text'] = df['comment_text'].apply(lambda x: clean_it(x,encodeit))\n",
    "    \n",
    "    # shuffling it\n",
    "    if shuffleit:\n",
    "        df.sample(frac=1).reset_index(drop=True)\n",
    "            \n",
    "    return df\n",
    "\n",
    "# Transform the datasets using the above clean functions\n",
    "df_train_cleaned = clean_df(train, True, True)\n",
    "df_val_cleaned = clean_df(val, True, True, label_prefix='')"
   ]
  },
  {
   "cell_type": "code",
   "execution_count": 7,
   "id": "4d980447",
   "metadata": {},
   "outputs": [
    {
     "data": {
      "text/html": [
       "<div>\n",
       "<style scoped>\n",
       "    .dataframe tbody tr th:only-of-type {\n",
       "        vertical-align: middle;\n",
       "    }\n",
       "\n",
       "    .dataframe tbody tr th {\n",
       "        vertical-align: top;\n",
       "    }\n",
       "\n",
       "    .dataframe thead th {\n",
       "        text-align: right;\n",
       "    }\n",
       "</style>\n",
       "<table border=\"1\" class=\"dataframe\">\n",
       "  <thead>\n",
       "    <tr style=\"text-align: right;\">\n",
       "      <th></th>\n",
       "      <th>comment_text</th>\n",
       "      <th>toxic</th>\n",
       "      <th>severe_toxic</th>\n",
       "      <th>obscene</th>\n",
       "      <th>threat</th>\n",
       "      <th>insult</th>\n",
       "      <th>identity_hate</th>\n",
       "    </tr>\n",
       "  </thead>\n",
       "  <tbody>\n",
       "    <tr>\n",
       "      <th>141599</th>\n",
       "      <td>a quote   many psychometricians and behavio...</td>\n",
       "      <td>__class__0</td>\n",
       "      <td>__class__0</td>\n",
       "      <td>__class__0</td>\n",
       "      <td>__class__0</td>\n",
       "      <td>__class__0</td>\n",
       "      <td>__class__0</td>\n",
       "    </tr>\n",
       "    <tr>\n",
       "      <th>86692</th>\n",
       "      <td>and right at the time of making such allegati...</td>\n",
       "      <td>__class__0</td>\n",
       "      <td>__class__0</td>\n",
       "      <td>__class__0</td>\n",
       "      <td>__class__0</td>\n",
       "      <td>__class__0</td>\n",
       "      <td>__class__0</td>\n",
       "    </tr>\n",
       "    <tr>\n",
       "      <th>28863</th>\n",
       "      <td>formally not  de facto yes .  and in the end  ...</td>\n",
       "      <td>__class__0</td>\n",
       "      <td>__class__0</td>\n",
       "      <td>__class__0</td>\n",
       "      <td>__class__0</td>\n",
       "      <td>__class__0</td>\n",
       "      <td>__class__0</td>\n",
       "    </tr>\n",
       "    <tr>\n",
       "      <th>14048</th>\n",
       "      <td>religious groups   why is the only religion is...</td>\n",
       "      <td>__class__0</td>\n",
       "      <td>__class__0</td>\n",
       "      <td>__class__0</td>\n",
       "      <td>__class__0</td>\n",
       "      <td>__class__0</td>\n",
       "      <td>__class__0</td>\n",
       "    </tr>\n",
       "    <tr>\n",
       "      <th>78005</th>\n",
       "      <td>the doctor suggests it ' s probably something...</td>\n",
       "      <td>__class__0</td>\n",
       "      <td>__class__0</td>\n",
       "      <td>__class__0</td>\n",
       "      <td>__class__0</td>\n",
       "      <td>__class__0</td>\n",
       "      <td>__class__0</td>\n",
       "    </tr>\n",
       "  </tbody>\n",
       "</table>\n",
       "</div>"
      ],
      "text/plain": [
       "                                             comment_text        toxic  \\\n",
       "141599     a quote   many psychometricians and behavio...  __class__0    \n",
       "86692    and right at the time of making such allegati...  __class__0    \n",
       "28863   formally not  de facto yes .  and in the end  ...  __class__0    \n",
       "14048   religious groups   why is the only religion is...  __class__0    \n",
       "78005    the doctor suggests it ' s probably something...  __class__0    \n",
       "\n",
       "       severe_toxic      obscene       threat       insult identity_hate  \n",
       "141599  __class__0   __class__0   __class__0   __class__0    __class__0   \n",
       "86692   __class__0   __class__0   __class__0   __class__0    __class__0   \n",
       "28863   __class__0   __class__0   __class__0   __class__0    __class__0   \n",
       "14048   __class__0   __class__0   __class__0   __class__0    __class__0   \n",
       "78005   __class__0   __class__0   __class__0   __class__0    __class__0   "
      ]
     },
     "execution_count": 7,
     "metadata": {},
     "output_type": "execute_result"
    }
   ],
   "source": [
    "df_train_cleaned.head()"
   ]
  },
  {
   "cell_type": "code",
   "execution_count": 8,
   "id": "7a46439f",
   "metadata": {},
   "outputs": [
    {
     "data": {
      "text/html": [
       "<div>\n",
       "<style scoped>\n",
       "    .dataframe tbody tr th:only-of-type {\n",
       "        vertical-align: middle;\n",
       "    }\n",
       "\n",
       "    .dataframe tbody tr th {\n",
       "        vertical-align: top;\n",
       "    }\n",
       "\n",
       "    .dataframe thead th {\n",
       "        text-align: right;\n",
       "    }\n",
       "</style>\n",
       "<table border=\"1\" class=\"dataframe\">\n",
       "  <thead>\n",
       "    <tr style=\"text-align: right;\">\n",
       "      <th></th>\n",
       "      <th>comment_text</th>\n",
       "      <th>toxic</th>\n",
       "      <th>severe_toxic</th>\n",
       "      <th>obscene</th>\n",
       "      <th>threat</th>\n",
       "      <th>insult</th>\n",
       "      <th>identity_hate</th>\n",
       "    </tr>\n",
       "  </thead>\n",
       "  <tbody>\n",
       "    <tr>\n",
       "      <th>50446</th>\n",
       "      <td>and redirect the other names to it</td>\n",
       "      <td>0</td>\n",
       "      <td>0</td>\n",
       "      <td>0</td>\n",
       "      <td>0</td>\n",
       "      <td>0</td>\n",
       "      <td>0</td>\n",
       "    </tr>\n",
       "    <tr>\n",
       "      <th>81571</th>\n",
       "      <td>sinebot1 please read the above comments .</td>\n",
       "      <td>0</td>\n",
       "      <td>0</td>\n",
       "      <td>0</td>\n",
       "      <td>0</td>\n",
       "      <td>0</td>\n",
       "      <td>0</td>\n",
       "    </tr>\n",
       "    <tr>\n",
       "      <th>25983</th>\n",
       "      <td>thank you for your very good answer .   i just...</td>\n",
       "      <td>0</td>\n",
       "      <td>0</td>\n",
       "      <td>0</td>\n",
       "      <td>0</td>\n",
       "      <td>0</td>\n",
       "      <td>0</td>\n",
       "    </tr>\n",
       "    <tr>\n",
       "      <th>39022</th>\n",
       "      <td>i think we need to ask who is likely to be v...</td>\n",
       "      <td>0</td>\n",
       "      <td>0</td>\n",
       "      <td>0</td>\n",
       "      <td>0</td>\n",
       "      <td>0</td>\n",
       "      <td>0</td>\n",
       "    </tr>\n",
       "    <tr>\n",
       "      <th>49431</th>\n",
       "      <td>orangemonster2k1|svrtvdude]]  ( vt )  23 26  3...</td>\n",
       "      <td>0</td>\n",
       "      <td>0</td>\n",
       "      <td>0</td>\n",
       "      <td>0</td>\n",
       "      <td>0</td>\n",
       "      <td>0</td>\n",
       "    </tr>\n",
       "  </tbody>\n",
       "</table>\n",
       "</div>"
      ],
      "text/plain": [
       "                                            comment_text toxic severe_toxic  \\\n",
       "50446                 and redirect the other names to it    0            0    \n",
       "81571         sinebot1 please read the above comments .     0            0    \n",
       "25983  thank you for your very good answer .   i just...    0            0    \n",
       "39022    i think we need to ask who is likely to be v...    0            0    \n",
       "49431  orangemonster2k1|svrtvdude]]  ( vt )  23 26  3...    0            0    \n",
       "\n",
       "      obscene threat insult identity_hate  \n",
       "50446      0      0      0             0   \n",
       "81571      0      0      0             0   \n",
       "25983      0      0      0             0   \n",
       "39022      0      0      0             0   \n",
       "49431      0      0      0             0   "
      ]
     },
     "execution_count": 8,
     "metadata": {},
     "output_type": "execute_result"
    }
   ],
   "source": [
    "df_val_cleaned.head()"
   ]
  },
  {
   "cell_type": "markdown",
   "id": "4aa6a3a3",
   "metadata": {},
   "source": [
    "We have not changed the labels for the validation set, as we are not processing it through FastText. "
   ]
  },
  {
   "cell_type": "markdown",
   "id": "4c05c601",
   "metadata": {},
   "source": [
    "#### e. Training the model\n",
    "\n",
    "- we cannot use the Multi-Output Classifier wrapper as FasText is accepting as input only csv file;\n",
    "\n",
    "- train_supervised will be the function use in this model. By tunning the hyperparameters we can try to improve the model;\n",
    "\n",
    "- In FasText, we can evaluate the model only by calculating the probabilities for each sentence, one sentence at a time. Therfore, to calculate the ROC-AUC, we will need a loop to store the probabilties in an empty list. \n"
   ]
  },
  {
   "cell_type": "code",
   "execution_count": 9,
   "id": "373213d5",
   "metadata": {},
   "outputs": [
    {
     "data": {
      "application/vnd.jupyter.widget-view+json": {
       "model_id": "800b0d25df6e47cfadbe7492a1ffb47c",
       "version_major": 2,
       "version_minor": 0
      },
      "text/plain": [
       "  0%|          | 0/6 [00:00<?, ?it/s]"
      ]
     },
     "metadata": {},
     "output_type": "display_data"
    }
   ],
   "source": [
    "#Will contain all the predictions for validation set for all the output variables\n",
    "all_preds = []\n",
    "#Iterating over all output variables to create separate models\n",
    "for col in tqdm(y_cols):\n",
    "    #Path for saving the training dataset\n",
    "    train_file = '/Users/stefano/UDACITY/Data Engeeniring/Capstone/working/final_train.csv'\n",
    "    #Saving the Output Variable and the text data to a csv\n",
    "    df_train_cleaned[[col, \"comment_text\"]].to_csv(train_file, header=None, index=False, columns=[col, \"comment_text\"]) \n",
    "    #Training the model\n",
    "    model = train_supervised(input=train_file, label=\"__class__\", lr=1.0, epoch=2, loss='ova', wordNgrams=2, dim=200, thread=2, verbose=100)\n",
    "    #Predictions for validation sets for that ouput variable\n",
    "    col_preds = []\n",
    "    #Iterating over each sentence in the validation set\n",
    "    for text in df_val_cleaned[\"comment_text\"].values:\n",
    "        #Get the prediction for class 1\n",
    "        pred = model.predict(text, k = 2)[1][1]\n",
    "        #Append the prediction to the list of predictions for that output variable\n",
    "        col_preds.append(pred)\n",
    "    #Append the list of predictions for a output variable to the overall set of predictions for all columns\n",
    "    all_preds.append(col_preds)"
   ]
  },
  {
   "cell_type": "code",
   "execution_count": 10,
   "id": "52af26fc",
   "metadata": {},
   "outputs": [],
   "source": [
    "#Function for calculating roc auc with given actual binary values across target variables and the probability score made by the model\n",
    "def accuracy(y_test, y_pred):\n",
    "    aucs = []\n",
    "    #Calculate the ROC-AUC for each of the target column\n",
    "    for col in range(y_test.shape[1]):\n",
    "        aucs.append(roc_auc_score(y_test[:,col],y_pred[:,col]))\n",
    "    return aucs"
   ]
  },
  {
   "cell_type": "code",
   "execution_count": 11,
   "id": "def850bb",
   "metadata": {},
   "outputs": [
    {
     "data": {
      "text/plain": [
       "0.7654310278918564"
      ]
     },
     "execution_count": 11,
     "metadata": {},
     "output_type": "execute_result"
    }
   ],
   "source": [
    "#Actual Labels\n",
    "y_val_actuals = df_val_cleaned[y_cols].astype(\"int\").to_numpy()\n",
    "#Prediction probability - minor ordering\n",
    "all_preds_array = np.transpose(np.array(all_preds))\n",
    "#Calculate the mean of the ROC-AUC for each of the ouput variable\n",
    "mean_auc = mean(accuracy(y_val_actuals,all_preds_array))\n",
    "mean_auc"
   ]
  },
  {
   "cell_type": "markdown",
   "id": "b665d61a",
   "metadata": {},
   "source": [
    "The ROC-AUC on the validation set has a precision of around 0.77, which is definitely better than the Word2Vec model. \n",
    "This is also true if we consider that we have just used 2 epoch and not-tuned any parameter. Moreover the prediction has been quite quick in terms of prediction time."
   ]
  },
  {
   "cell_type": "markdown",
   "id": "a341d187",
   "metadata": {},
   "source": [
    "#### f. Predictin and Submittin Test data"
   ]
  },
  {
   "cell_type": "code",
   "execution_count": 12,
   "id": "ee177c86",
   "metadata": {},
   "outputs": [
    {
     "data": {
      "application/vnd.jupyter.widget-view+json": {
       "model_id": "7f1195bff3464107b08208d0f4ff1029",
       "version_major": 2,
       "version_minor": 0
      },
      "text/plain": [
       "  0%|          | 0/6 [00:00<?, ?it/s]"
      ]
     },
     "metadata": {},
     "output_type": "display_data"
    }
   ],
   "source": [
    "# Merging the test dataset with sample_submission to have all the columns:\n",
    "#id,text_data and the target variables in one dataframe\n",
    "df_test = pd.merge(test_text, sample_submission, on = \"id\")\n",
    "\n",
    "# Preprocessing the test dataset as well\n",
    "df_test_cleaned = clean_df(df_test, True, True, label_prefix='')\n",
    "\n",
    "#Will contain all the predictions for validation set for all the output variables\n",
    "all_test_preds = []\n",
    "for col in tqdm(y_cols):\n",
    "    \n",
    "    #Predictions for test sets for that ouput variable\n",
    "    col_preds = []\n",
    "    \n",
    "    #Iterating over each sentence in the test set\n",
    "    for text in df_test_cleaned[\"comment_text\"].values:\n",
    "        \n",
    "        #Get the prediction for class 1\n",
    "        pred = model.predict(text, k = 2)[1][1]\n",
    "        \n",
    "        #Append the prediction to the list of predictions for that output variable\n",
    "        col_preds.append(pred)\n",
    "        \n",
    "    #Append the list of predictions for a output variable to the overall set of predictions for all columns\n",
    "    all_test_preds.append(col_preds)\n",
    "    \n",
    "#Prediction probability - minor ordering\n",
    "all_test_preds_array = np.transpose(np.array(all_test_preds))\n",
    "\n",
    "#Assign the predictions by the model in the final test dataset\n",
    "df_test[[\"toxic\",\"severe_toxic\",\"obscene\",\"threat\",\"insult\",\"identity_hate\"]] = all_test_preds_array\n",
    "\n",
    "#Drop Comment Text as the sample submission doesnt have it and wouldnt be expected\n",
    "df_test.drop([\"comment_text\"], axis = 1, inplace = True)\n",
    "\n",
    "#Save the dataset as a csv to submit it\n",
    "df_test.to_csv(\"sample_submission.csv\", index = False)"
   ]
  },
  {
   "cell_type": "markdown",
   "id": "31c38808",
   "metadata": {},
   "source": [
    "### 4. CNN\n",
    "\n",
    "In this part of the notebook, we will use a Convolutional Neural Networks (CNNs) for multi-label text classification by using keras libraries."
   ]
  },
  {
   "cell_type": "markdown",
   "id": "e75805f1",
   "metadata": {},
   "source": [
    "#### a. Importing the required libraries"
   ]
  },
  {
   "cell_type": "code",
   "execution_count": 16,
   "id": "8f808a1d",
   "metadata": {},
   "outputs": [],
   "source": [
    "import numpy as np # linear algebra\n",
    "import pandas as pd # data processing, CSV file I/O (e.g. pd.read_csv)\n",
    "\n",
    "from sklearn.model_selection import train_test_split\n",
    "\n",
    "from keras.preprocessing.text import Tokenizer\n",
    "from keras.preprocessing.sequence import pad_sequences\n",
    "from tensorflow.keras.utils import to_categorical\n",
    "from keras.models import Sequential\n",
    "from keras.layers import Dense, Conv1D, MaxPooling1D, GlobalMaxPool1D, Embedding, Input\n",
    "\n",
    "MAX_SEQUENCE_LENGTH = 1000\n",
    "MAX_NUM_WORDS = 20000 \n",
    "EMBEDDING_DIM = 100 \n",
    "VALIDATION_SPLIT = 0.2"
   ]
  },
  {
   "cell_type": "markdown",
   "id": "70954987",
   "metadata": {},
   "source": [
    "#### b. Loading the dataset"
   ]
  },
  {
   "cell_type": "code",
   "execution_count": 17,
   "id": "75ece08e",
   "metadata": {},
   "outputs": [],
   "source": [
    "df_train = pd.read_csv(\"/Users/stefano/UDACITY/Data Engeeniring/Capstone/Data/train.csv\")\n",
    "df_test = pd.read_csv(\"/Users/stefano/UDACITY/Data Engeeniring/Capstone/Data/test.csv\")\n",
    "sample_submission = pd.read_csv(\"/Users/stefano/UDACITY/Data Engeeniring/Capstone/Data/sample_submission.csv\")"
   ]
  },
  {
   "cell_type": "code",
   "execution_count": 18,
   "id": "0a080e78",
   "metadata": {},
   "outputs": [
    {
     "name": "stdout",
     "output_type": "stream",
     "text": [
      "First comment text in training set:\n",
      "\n",
      " Explanation\n",
      "Why the edits made under my username Hardcore Metallica Fan were reverted? They weren't vandalisms, just closure on some GAs after I voted at New York Dolls FAC. And please don't remove the template from the talk page since I'm retired now.89.205.38.27\n"
     ]
    }
   ],
   "source": [
    "#Assinging the texts to list of strings\n",
    "train_texts= df_train.comment_text.values\n",
    "test_texts= df_test.comment_text.values\n",
    "#Assignings the labels as a separate df\n",
    "train_labels = df_train[[\"toxic\",\"severe_toxic\",\"obscene\",\"threat\",\"insult\",\"identity_hate\"]]\n",
    "#Printing the list of strings\n",
    "print(\"First comment text in training set:\\n\\n\", train_texts[0])"
   ]
  },
  {
   "cell_type": "markdown",
   "id": "c058747d",
   "metadata": {},
   "source": [
    "#### c. Text Preprocessing\n",
    "\n",
    "\n",
    "In order to process an input in a CNNs model, we need to transform this input into a number. Keras provides provides some basic tool to process data and prepare them for CNNs. We will use Tokenizer class, that will transform the text into a vector, by transforming each text into a sequence of integers or into a vector where the coefficient of each token will be binary. To do this we will have to perform 3 main steps: \n",
    "\n",
    "1. Initializing the Tokenizer class:\n",
    "\n",
    "    All puntuactions is removed, than sentences are splitted into sequences of words to be than splitted into tokens. We will than index this tokens. 0 is the resereved parameter to be assigned to any words. We set num_words to MAX_NUM_WORDS (20000) which is the maximum number of words to keep, based on word frequency. Only the most common num_words-1 words will be kept.\n",
    "\n",
    "\n",
    "2. Calling the fit_on_texts function - Updates internal vocabulary based on a list of texts\n",
    "\n",
    "    This method creates the vocabulary index based on word frequency. So if you give it something like, \"The cat sat on the mat.\" It will create a dictionary s.t. word_index[\"the\"] = 1; word_index[\"cat\"] = 2 it is word -> index dictionary so every word gets a unique integer value. 0 is reserved for padding. So lower integer means more frequent word (often the first few are stop words because they appear a lot).\n",
    "\n",
    "3. Calling the texts_to_sequences function - Transforms each text in texts to a sequence of integers\n",
    "\n",
    "    So it basically takes each word in the text and replaces it with its corresponding integer value from the word_index dictionary.\n",
    "\n",
    "    N.B. After fit_on_texts, which is essentially creating a word_index matrix for the vocabulary, we could do 2 things\n",
    "\n",
    "    texts_to_sequences which is used when we use a embedding layer otherwise we can call\n",
    "\n",
    "    text_to_matrix which converts the texts to a bag of words"
   ]
  },
  {
   "cell_type": "code",
   "execution_count": 19,
   "id": "6d14c0a2",
   "metadata": {},
   "outputs": [
    {
     "name": "stdout",
     "output_type": "stream",
     "text": [
      "Length of word Index: 210337\n",
      "First 5 elements in the word_index dictionary: {'the': 1, 'to': 2, 'of': 3, 'and': 4, 'a': 5}\n",
      "First comment text in training set:\n",
      " [688, 75, 1, 126, 130, 177, 29, 672, 4511, 12052, 1116, 86, 331, 51, 2278, 11448, 50, 6864, 15, 60, 2756, 148, 7, 2937, 34, 117, 1221, 15190, 2825, 4, 45, 59, 244, 1, 365, 31, 1, 38, 27, 143, 73, 3462, 89, 3085, 4583, 2273, 985]\n"
     ]
    }
   ],
   "source": [
    "#Initializing the class\n",
    "tokenizer = Tokenizer(num_words = MAX_NUM_WORDS)\n",
    "#Updates internal vocabulary based on a list of texts.\n",
    "tokenizer.fit_on_texts(train_texts)\n",
    "#Transforms each text in texts to a sequence of integers.\n",
    "train_sequences = tokenizer.texts_to_sequences(train_texts)\n",
    "test_sequences = tokenizer.texts_to_sequences(test_texts)\n",
    "word_index = tokenizer.word_index\n",
    "print(\"Length of word Index:\", len(word_index))\n",
    "print(\"First 5 elements in the word_index dictionary:\", dict(list(word_index.items())[0: 5]) )\n",
    "print(\"First comment text in training set:\\n\", train_sequences[0])"
   ]
  },
  {
   "cell_type": "markdown",
   "id": "61f17fe0",
   "metadata": {},
   "source": [
    "Now that we have tokenized the comment texts, we need to pad the sentences to make all the sentences of equal length.\n",
    "\n",
    "Why So?\n",
    "\n",
    "Deep learning libraries assume a vectorized representation of your data. In the case of variable length sequence prediction problems, this requires that your data be transformed such that each sequence has the same length. This vectorization allows code to efficiently perform the matrix operations in batch for your chosen deep learning algorithms.\n",
    "\n",
    "This is also done in Computer Vision, where we generally tend to resize all the images to a fixed size which will be the input size of the Neural Network."
   ]
  },
  {
   "cell_type": "code",
   "execution_count": 20,
   "id": "79df09b8",
   "metadata": {},
   "outputs": [
    {
     "name": "stdout",
     "output_type": "stream",
     "text": [
      "Shape of padded sequence list:\n",
      " (159571, 1000)\n",
      "First comment text in training set - 0 for padding - only last 50 sequences as the rest are paddings:\n",
      " [    0     0     0   688    75     1   126   130   177    29   672  4511\n",
      " 12052  1116    86   331    51  2278 11448    50  6864    15    60  2756\n",
      "   148     7  2937    34   117  1221 15190  2825     4    45    59   244\n",
      "     1   365    31     1    38    27   143    73  3462    89  3085  4583\n",
      "  2273   985]\n"
     ]
    }
   ],
   "source": [
    "#Pad tokenized sequences\n",
    "trainvalid_data = pad_sequences(train_sequences, maxlen=MAX_SEQUENCE_LENGTH)\n",
    "test_data = pad_sequences(test_sequences, maxlen=MAX_SEQUENCE_LENGTH)\n",
    "print(\"Shape of padded sequence list:\\n\", trainvalid_data.shape)\n",
    "print(\"First comment text in training set - 0 for padding - only last 50 sequences as the rest are paddings:\\n\", trainvalid_data[0][-50:])"
   ]
  },
  {
   "cell_type": "markdown",
   "id": "fa4561ba",
   "metadata": {},
   "source": [
    "#### d. Text Preprocessing\n",
    "\n",
    "In Kears the easiest way to define a CNNs model is to initiate a Sequential model class and keep adding required layers at occurance.\n",
    "\n",
    "A standard model for document classification is to use an Embedding layer as input, followed by a one-dimensional convolutional neural network, pooling layer, and then a prediction output layer. We will be using, 1 embedding layer, 3 sets of Convolution and Pooling layer and 2 sets of Dense layer\n",
    "\n",
    "\n",
    "Conv1D\n",
    "\n",
    "Convolutional Neural Network (CNN) models were developed for image classification, in which the model accepts a two-dimensional input representing an image’s pixels and color channels. This same process can be applied to 1D sequences of data. The model extracts features from sequences data and maps the internal features of the sequence. CNNs take into account the proximity of words to create trainable patterns. The kernel size/height in the convolutional layer defines the number of words to consider as the convolution is passed across the input text document, providing a grouping parameter. In our case, it will consider 5 words at a time and in the image it will consider 2 words at a time.\n",
    "\n",
    "4. Defining a 1D CNN model\n",
    "In keras, the easiest way to define a model is initiate a Sequential model class and keep adding required layers. A Sequential model is a plain stack of layers where each layer has exactly one input tensor and one output tensor.\n",
    "\n",
    "A standard model for document classification is to use an Embedding layer as input, followed by a one-dimensional convolutional neural network, pooling layer, and then a prediction output layer. We used 1 embedding layer, 3 sets of Convolution and Pooling layer and 2 sets of Dense layer. We can either use a pre-trained embedding (like Word2Vec) to generate a embedding matrix of size Vocabulary * Dimension of embedding or train a fresh embedding putting it as an input layer along with other weights.\n",
    "\n",
    "Conv1D\n",
    "\n",
    "Convolutional Neural Network (CNN) models were developed for image classification, in which the model accepts a two-dimensional input representing an image’s pixels and color channels. This same process can be applied to 1D sequences of data. The model extracts features from sequences data and maps the internal features of the sequence. CNNs take into account the proximity of words to create trainable patterns. The kernel size/height in the convolutional layer defines the number of words to consider as the convolution is passed across the input text document, providing a grouping parameter. In our case, it will consider 5 words at a time and in the image it will consider 2 words at a time\n",
    "\n",
    "\n",
    "\n",
    "**Max Pooling 1D**\n",
    "\n",
    "Max Pooling layer will consolidate the output from the convolutional layer. We had earlier seen MaxPooling 2D. In Maxpooling 1D, the same thing happens only in 1 direction.\n",
    "\n",
    "We use sigmoid activation in the output layer. Sigmoid function gives us a probability score between 0 and 1 from each out of the output node. If we would have used softmax it gives a probability distribution across the output nodes that adds to 1.\n",
    "\n",
    "In general,\n",
    "\n",
    "For binary classification, we can have 1 output units, use sigmoid activation in the output layer and use binary cross entropy loss\n",
    "For multi class classification, we can have N output units, use softmax activation in the output layer and use categorical cross entropy loss\n",
    "For multi label classification, we can have N output units, use sigmoid activation in the output layer and use binary cross entropy loss"
   ]
  },
  {
   "cell_type": "code",
   "execution_count": 21,
   "id": "cd20f2ff",
   "metadata": {},
   "outputs": [
    {
     "name": "stdout",
     "output_type": "stream",
     "text": [
      "Model: \"sequential\"\n",
      "_________________________________________________________________\n",
      "Layer (type)                 Output Shape              Param #   \n",
      "=================================================================\n",
      "embedding (Embedding)        (None, None, 128)         2560000   \n",
      "_________________________________________________________________\n",
      "conv1d (Conv1D)              (None, None, 128)         82048     \n",
      "_________________________________________________________________\n",
      "max_pooling1d (MaxPooling1D) (None, None, 128)         0         \n",
      "_________________________________________________________________\n",
      "conv1d_1 (Conv1D)            (None, None, 128)         82048     \n",
      "_________________________________________________________________\n",
      "max_pooling1d_1 (MaxPooling1 (None, None, 128)         0         \n",
      "_________________________________________________________________\n",
      "conv1d_2 (Conv1D)            (None, None, 128)         82048     \n",
      "_________________________________________________________________\n",
      "global_max_pooling1d (Global (None, 128)               0         \n",
      "_________________________________________________________________\n",
      "dense (Dense)                (None, 128)               16512     \n",
      "_________________________________________________________________\n",
      "dense_1 (Dense)              (None, 6)                 774       \n",
      "=================================================================\n",
      "Total params: 2,823,430\n",
      "Trainable params: 2,823,430\n",
      "Non-trainable params: 0\n",
      "_________________________________________________________________\n",
      "None\n"
     ]
    }
   ],
   "source": [
    "cnn_model = Sequential()\n",
    "cnn_model.add(Embedding(MAX_NUM_WORDS, 128))\n",
    "cnn_model.add(Conv1D(filters = 128, kernel_size = 5, activation = \"relu\"))\n",
    "cnn_model.add(MaxPooling1D(pool_size = 5))\n",
    "cnn_model.add(Conv1D(filters = 128, kernel_size = 5, activation = \"relu\"))\n",
    "cnn_model.add(MaxPooling1D(pool_size = 5))\n",
    "cnn_model.add(Conv1D(filters = 128, kernel_size = 5, activation = \"relu\"))\n",
    "cnn_model.add(GlobalMaxPool1D())\n",
    "cnn_model.add(Dense(units = 128, activation = 'relu'))\n",
    "cnn_model.add(Dense(units = 6, activation = 'sigmoid'))\n",
    "\n",
    "print(cnn_model.summary())"
   ]
  },
  {
   "cell_type": "markdown",
   "id": "704b6a0c",
   "metadata": {},
   "source": [
    "#### e. Compile the Model\n",
    "\n",
    "Before starting to train the model, we need to configure it. We need to mention the loss fucntion which will be used to calculate the error at each iteration, optimizer which will specify how the weights will be updated and the metrics which is to be evaluated by the model during training and testing\n",
    "\n",
    "While fitting/ training the model, along with the training set we also pass the following parameters:\n",
    "\n",
    "batch_size = Number of samples that goes through the network at a time and updates the network parameters by calculating loss (in Mini Batch Gradient Descent)\n",
    "\n",
    "epochs = Number of times the whole set of training samples goes through the network\n",
    "\n",
    "validation_data = the dataset that will be used to evaluate the loss and any model metrics at the end of each epoch. This set will not be used for training."
   ]
  },
  {
   "cell_type": "code",
   "execution_count": 22,
   "id": "143538c2",
   "metadata": {},
   "outputs": [
    {
     "name": "stdout",
     "output_type": "stream",
     "text": [
      "(119678, 1000) (119678, 6) (39893, 1000) (39893, 6)\n",
      "935/935 [==============================] - 544s 561ms/step - loss: 0.1265 - auc: 0.8648 - val_loss: 0.0543 - val_auc: 0.9765\n"
     ]
    }
   ],
   "source": [
    "#Configures the model for training.\n",
    "cnn_model.compile(loss = \"binary_crossentropy\", optimizer = \"adam\", metrics = [\"AUC\"])\n",
    "\n",
    "#Split the dataset into train and validation set for training and evaludating the model\n",
    "X_train, X_val, y_train, y_val = train_test_split(trainvalid_data, train_labels, shuffle = True, random_state = 123)\n",
    "print(X_train.shape, y_train.shape, X_val.shape, y_val.shape)\n",
    "#Trains the model for a fixed number of epochs (iterations on a dataset)\n",
    "history = cnn_model.fit(X_train, y_train, batch_size = 128, epochs = 1, validation_data = (X_val, y_val))"
   ]
  },
  {
   "cell_type": "markdown",
   "id": "a926c21f",
   "metadata": {},
   "source": [
    "#### f. Predicting and submitting the test model"
   ]
  },
  {
   "cell_type": "code",
   "execution_count": 23,
   "id": "6820201e",
   "metadata": {},
   "outputs": [],
   "source": [
    "# Merging the test dataset with sample_submission to have all the columns:\n",
    "#id,text_data and the target variables in one dataframe\n",
    "df_test = pd.merge(df_test, sample_submission, on = \"id\")\n",
    "#Use the CNN model to output probabilities on test data\n",
    "y_preds = cnn_model.predict(test_data)\n",
    "#Assign the predictions by the model in the final test dataset\n",
    "df_test[[\"toxic\",\"severe_toxic\",\"obscene\",\"threat\",\"insult\",\"identity_hate\"]] = y_preds\n",
    "#Drop Comment Text as the sample submission doesnt have it and wouldnt be expected\n",
    "df_test.drop([\"comment_text\"], axis = 1, inplace = True)\n",
    "#Save the dataset as a csv to submit it\n",
    "df_test.to_csv(\"sample_submission.csv\", index = False)"
   ]
  },
  {
   "cell_type": "markdown",
   "id": "af034f5f",
   "metadata": {},
   "source": [
    "### 5. LSTM\n",
    "\n",
    "In this part of the notebook, we will introduce a Long Short Term Memory (LSTM) model, which is an improvement over the regular RNNs model for multi-label text classification."
   ]
  },
  {
   "cell_type": "markdown",
   "id": "08d4d856",
   "metadata": {},
   "source": [
    "#### a. Load Library"
   ]
  },
  {
   "cell_type": "code",
   "execution_count": 25,
   "id": "dd06d94b",
   "metadata": {},
   "outputs": [],
   "source": [
    "import numpy as np # linear algebra\n",
    "import pandas as pd # data processing, CSV file I/O (e.g. pd.read_csv)\n",
    "#sklearn libraries\n",
    "from sklearn.model_selection import train_test_split\n",
    "#keras libraries\n",
    "from keras.preprocessing.text import Tokenizer\n",
    "from keras.preprocessing.sequence import pad_sequences\n",
    "from tensorflow.keras.utils import to_categorical\n",
    "from keras.models import Sequential\n",
    "from keras.layers import Dense, LSTM, Embedding, Input\n",
    "#Constants\n",
    "MAX_SEQUENCE_LENGTH = 1000\n",
    "MAX_NUM_WORDS = 20000 \n",
    "EMBEDDING_DIM = 100 \n",
    "VALIDATION_SPLIT = 0.2"
   ]
  },
  {
   "cell_type": "markdown",
   "id": "e42d40a8",
   "metadata": {},
   "source": [
    "#### b. Load the dataset"
   ]
  },
  {
   "cell_type": "code",
   "execution_count": 26,
   "id": "c62bde69",
   "metadata": {},
   "outputs": [
    {
     "name": "stdout",
     "output_type": "stream",
     "text": [
      "(159571, 8) (153164, 2) (153164, 7)\n"
     ]
    },
    {
     "data": {
      "text/html": [
       "<div>\n",
       "<style scoped>\n",
       "    .dataframe tbody tr th:only-of-type {\n",
       "        vertical-align: middle;\n",
       "    }\n",
       "\n",
       "    .dataframe tbody tr th {\n",
       "        vertical-align: top;\n",
       "    }\n",
       "\n",
       "    .dataframe thead th {\n",
       "        text-align: right;\n",
       "    }\n",
       "</style>\n",
       "<table border=\"1\" class=\"dataframe\">\n",
       "  <thead>\n",
       "    <tr style=\"text-align: right;\">\n",
       "      <th></th>\n",
       "      <th>id</th>\n",
       "      <th>comment_text</th>\n",
       "      <th>toxic</th>\n",
       "      <th>severe_toxic</th>\n",
       "      <th>obscene</th>\n",
       "      <th>threat</th>\n",
       "      <th>insult</th>\n",
       "      <th>identity_hate</th>\n",
       "    </tr>\n",
       "  </thead>\n",
       "  <tbody>\n",
       "    <tr>\n",
       "      <th>0</th>\n",
       "      <td>0000997932d777bf</td>\n",
       "      <td>Explanation\\nWhy the edits made under my usern...</td>\n",
       "      <td>0</td>\n",
       "      <td>0</td>\n",
       "      <td>0</td>\n",
       "      <td>0</td>\n",
       "      <td>0</td>\n",
       "      <td>0</td>\n",
       "    </tr>\n",
       "    <tr>\n",
       "      <th>1</th>\n",
       "      <td>000103f0d9cfb60f</td>\n",
       "      <td>D'aww! He matches this background colour I'm s...</td>\n",
       "      <td>0</td>\n",
       "      <td>0</td>\n",
       "      <td>0</td>\n",
       "      <td>0</td>\n",
       "      <td>0</td>\n",
       "      <td>0</td>\n",
       "    </tr>\n",
       "    <tr>\n",
       "      <th>2</th>\n",
       "      <td>000113f07ec002fd</td>\n",
       "      <td>Hey man, I'm really not trying to edit war. It...</td>\n",
       "      <td>0</td>\n",
       "      <td>0</td>\n",
       "      <td>0</td>\n",
       "      <td>0</td>\n",
       "      <td>0</td>\n",
       "      <td>0</td>\n",
       "    </tr>\n",
       "    <tr>\n",
       "      <th>3</th>\n",
       "      <td>0001b41b1c6bb37e</td>\n",
       "      <td>\"\\nMore\\nI can't make any real suggestions on ...</td>\n",
       "      <td>0</td>\n",
       "      <td>0</td>\n",
       "      <td>0</td>\n",
       "      <td>0</td>\n",
       "      <td>0</td>\n",
       "      <td>0</td>\n",
       "    </tr>\n",
       "    <tr>\n",
       "      <th>4</th>\n",
       "      <td>0001d958c54c6e35</td>\n",
       "      <td>You, sir, are my hero. Any chance you remember...</td>\n",
       "      <td>0</td>\n",
       "      <td>0</td>\n",
       "      <td>0</td>\n",
       "      <td>0</td>\n",
       "      <td>0</td>\n",
       "      <td>0</td>\n",
       "    </tr>\n",
       "  </tbody>\n",
       "</table>\n",
       "</div>"
      ],
      "text/plain": [
       "                 id                                       comment_text  toxic  \\\n",
       "0  0000997932d777bf  Explanation\\nWhy the edits made under my usern...      0   \n",
       "1  000103f0d9cfb60f  D'aww! He matches this background colour I'm s...      0   \n",
       "2  000113f07ec002fd  Hey man, I'm really not trying to edit war. It...      0   \n",
       "3  0001b41b1c6bb37e  \"\\nMore\\nI can't make any real suggestions on ...      0   \n",
       "4  0001d958c54c6e35  You, sir, are my hero. Any chance you remember...      0   \n",
       "\n",
       "   severe_toxic  obscene  threat  insult  identity_hate  \n",
       "0             0        0       0       0              0  \n",
       "1             0        0       0       0              0  \n",
       "2             0        0       0       0              0  \n",
       "3             0        0       0       0              0  \n",
       "4             0        0       0       0              0  "
      ]
     },
     "execution_count": 26,
     "metadata": {},
     "output_type": "execute_result"
    }
   ],
   "source": [
    "df_train = pd.read_csv(\"/Users/stefano/UDACITY/Data Engeeniring/Capstone/Data/train.csv\")\n",
    "df_test = pd.read_csv(\"/Users/stefano/UDACITY/Data Engeeniring/Capstone/Data/test.csv\")\n",
    "sample_submission = pd.read_csv(\"/Users/stefano/UDACITY/Data Engeeniring/Capstone/Data/sample_submission.csv\")\n",
    "\n",
    "print(df_train.shape, df_test.shape, sample_submission.shape)\n",
    "df_train.head()"
   ]
  },
  {
   "cell_type": "code",
   "execution_count": 27,
   "id": "4419bfde",
   "metadata": {},
   "outputs": [
    {
     "name": "stdout",
     "output_type": "stream",
     "text": [
      "First comment text in training set:\n",
      "\n",
      " Explanation\n",
      "Why the edits made under my username Hardcore Metallica Fan were reverted? They weren't vandalisms, just closure on some GAs after I voted at New York Dolls FAC. And please don't remove the template from the talk page since I'm retired now.89.205.38.27\n"
     ]
    }
   ],
   "source": [
    "#Assinging the texts to list of strings\n",
    "train_texts= df_train.comment_text.values\n",
    "test_texts= df_test.comment_text.values\n",
    "#Assignings the labels as a separate df\n",
    "train_labels = df_train[[\"toxic\",\"severe_toxic\",\"obscene\",\"threat\",\"insult\",\"identity_hate\"]]\n",
    "#Printing the list of strings\n",
    "print(\"First comment text in training set:\\n\\n\", train_texts[0])"
   ]
  },
  {
   "cell_type": "markdown",
   "id": "972abbfc",
   "metadata": {},
   "source": [
    "#### c. Pre-processing data"
   ]
  },
  {
   "cell_type": "code",
   "execution_count": 28,
   "id": "bf78ec7b",
   "metadata": {},
   "outputs": [
    {
     "name": "stdout",
     "output_type": "stream",
     "text": [
      "Length of word Index: 210337\n",
      "First 5 elements in the word_index dictionary: {'the': 1, 'to': 2, 'of': 3, 'and': 4, 'a': 5}\n",
      "First comment text in training set:\n",
      " [688, 75, 1, 126, 130, 177, 29, 672, 4511, 12052, 1116, 86, 331, 51, 2278, 11448, 50, 6864, 15, 60, 2756, 148, 7, 2937, 34, 117, 1221, 15190, 2825, 4, 45, 59, 244, 1, 365, 31, 1, 38, 27, 143, 73, 3462, 89, 3085, 4583, 2273, 985]\n"
     ]
    }
   ],
   "source": [
    "#Initializing the class\n",
    "tokenizer = Tokenizer(num_words = MAX_NUM_WORDS)\n",
    "#Updates internal vocabulary based on a list of texts.\n",
    "tokenizer.fit_on_texts(train_texts)\n",
    "#Transforms each text in texts to a sequence of integers.\n",
    "train_sequences = tokenizer.texts_to_sequences(train_texts)\n",
    "test_sequences = tokenizer.texts_to_sequences(test_texts)\n",
    "word_index = tokenizer.word_index\n",
    "print(\"Length of word Index:\", len(word_index))\n",
    "print(\"First 5 elements in the word_index dictionary:\", dict(list(word_index.items())[0: 5]) )\n",
    "print(\"First comment text in training set:\\n\", train_sequences[0])"
   ]
  },
  {
   "cell_type": "code",
   "execution_count": 29,
   "id": "93747748",
   "metadata": {},
   "outputs": [
    {
     "name": "stdout",
     "output_type": "stream",
     "text": [
      "Shape of padded sequence list:\n",
      " (159571, 1000)\n",
      "First comment text in training set - 0 for padding - only last 50 sequences as the rest are paddings:\n",
      " [    0     0     0   688    75     1   126   130   177    29   672  4511\n",
      " 12052  1116    86   331    51  2278 11448    50  6864    15    60  2756\n",
      "   148     7  2937    34   117  1221 15190  2825     4    45    59   244\n",
      "     1   365    31     1    38    27   143    73  3462    89  3085  4583\n",
      "  2273   985]\n"
     ]
    }
   ],
   "source": [
    "#Pad tokenized sequences\n",
    "trainvalid_data = pad_sequences(train_sequences, maxlen=MAX_SEQUENCE_LENGTH)\n",
    "test_data = pad_sequences(test_sequences, maxlen=MAX_SEQUENCE_LENGTH)\n",
    "print(\"Shape of padded sequence list:\\n\", trainvalid_data.shape)\n",
    "print(\"First comment text in training set - 0 for padding - only last 50 sequences as the rest are paddings:\\n\", trainvalid_data[0][-50:])"
   ]
  },
  {
   "cell_type": "markdown",
   "id": "241ca6b1",
   "metadata": {},
   "source": [
    "#### d. Create the LSTM model"
   ]
  },
  {
   "cell_type": "code",
   "execution_count": 30,
   "id": "7d95ca6b",
   "metadata": {},
   "outputs": [
    {
     "name": "stdout",
     "output_type": "stream",
     "text": [
      "Model: \"sequential_1\"\n",
      "_________________________________________________________________\n",
      "Layer (type)                 Output Shape              Param #   \n",
      "=================================================================\n",
      "embedding_1 (Embedding)      (None, None, 128)         2560000   \n",
      "_________________________________________________________________\n",
      "lstm (LSTM)                  (None, 128)               131584    \n",
      "_________________________________________________________________\n",
      "dense_2 (Dense)              (None, 6)                 774       \n",
      "=================================================================\n",
      "Total params: 2,692,358\n",
      "Trainable params: 2,692,358\n",
      "Non-trainable params: 0\n",
      "_________________________________________________________________\n",
      "None\n"
     ]
    }
   ],
   "source": [
    "rnn_model = Sequential()\n",
    "rnn_model.add(Embedding(MAX_NUM_WORDS, 128))\n",
    "rnn_model.add(LSTM(units = 128, dropout = 0.2, recurrent_dropout = 0.2))\n",
    "rnn_model.add(Dense(units = 6, activation = 'sigmoid'))\n",
    "print(rnn_model.summary())"
   ]
  },
  {
   "cell_type": "markdown",
   "id": "41797285",
   "metadata": {},
   "source": [
    "#### e. Train the model"
   ]
  },
  {
   "cell_type": "code",
   "execution_count": 31,
   "id": "41d518d9",
   "metadata": {},
   "outputs": [
    {
     "name": "stdout",
     "output_type": "stream",
     "text": [
      "(119678, 1000) (119678, 6) (39893, 1000) (39893, 6)\n",
      "935/935 [==============================] - 2910s 3s/step - loss: 0.1444 - auc: 0.8239 - val_loss: 0.0524 - val_auc: 0.9759\n"
     ]
    }
   ],
   "source": [
    "#Configures the model for training.\n",
    "rnn_model.compile(loss = \"binary_crossentropy\", optimizer = \"adam\", metrics = [\"AUC\"])\n",
    "\n",
    "#Split the dataset into train and validation set for training and evaludating the model\n",
    "X_train, X_val, y_train, y_val = train_test_split(trainvalid_data, train_labels, shuffle = True, random_state = 123)\n",
    "print(X_train.shape, y_train.shape, X_val.shape, y_val.shape)\n",
    "\n",
    "#Trains the model for a fixed number of epochs (iterations on a dataset)\n",
    "history = rnn_model.fit(X_train, y_train, batch_size = 128, epochs = 1, validation_data = (X_val, y_val))"
   ]
  },
  {
   "cell_type": "markdown",
   "id": "a0f38927",
   "metadata": {},
   "source": [
    "#### f. Predicting and submitting test data"
   ]
  },
  {
   "cell_type": "code",
   "execution_count": 32,
   "id": "0c4fe1e4",
   "metadata": {},
   "outputs": [],
   "source": [
    "# Merging the test dataset with sample_submission to have all the columns:\n",
    "#id,text_data and the target variables in one dataframe\n",
    "df_test = pd.merge(df_test, sample_submission, on = \"id\")\n",
    "#Use the CNN model to output probabilities on test data\n",
    "y_preds = rnn_model.predict(test_data)\n",
    "#Assign the predictions by the model in the final test dataset\n",
    "df_test[[\"toxic\",\"severe_toxic\",\"obscene\",\"threat\",\"insult\",\"identity_hate\"]] = y_preds\n",
    "#Drop Comment Text as the sample submission doesnt have it and wouldnt be expected\n",
    "df_test.drop([\"comment_text\"], axis = 1, inplace = True)\n",
    "#Save the dataset as a csv to submit it\n",
    "df_test.to_csv(\"sample_submission.csv\", index = False)"
   ]
  },
  {
   "cell_type": "markdown",
   "id": "d0f7f4cd",
   "metadata": {},
   "source": [
    "We have decided to run the BERT model on a separate notebook, as it will be trained one the Google Colab workspace to laverage GPU power. "
   ]
  },
  {
   "cell_type": "code",
   "execution_count": null,
   "id": "1702690f",
   "metadata": {},
   "outputs": [],
   "source": []
  }
 ],
 "metadata": {
  "kernelspec": {
   "display_name": "Python 3",
   "language": "python",
   "name": "python3"
  },
  "language_info": {
   "codemirror_mode": {
    "name": "ipython",
    "version": 3
   },
   "file_extension": ".py",
   "mimetype": "text/x-python",
   "name": "python",
   "nbconvert_exporter": "python",
   "pygments_lexer": "ipython3",
   "version": "3.8.10"
  }
 },
 "nbformat": 4,
 "nbformat_minor": 5
}
